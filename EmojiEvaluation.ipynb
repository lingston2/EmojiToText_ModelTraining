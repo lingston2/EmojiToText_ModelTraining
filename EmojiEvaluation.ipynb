{
  "nbformat": 4,
  "nbformat_minor": 0,
  "metadata": {
    "colab": {
      "provenance": [],
      "gpuType": "T4"
    },
    "kernelspec": {
      "name": "python3",
      "display_name": "Python 3"
    },
    "language_info": {
      "name": "python"
    },
    "accelerator": "GPU",
    "widgets": {
      "application/vnd.jupyter.widget-state+json": {
        "a688435ab71f46ba87c29273d1a8c4aa": {
          "model_module": "@jupyter-widgets/controls",
          "model_name": "HBoxModel",
          "model_module_version": "1.5.0",
          "state": {
            "_dom_classes": [],
            "_model_module": "@jupyter-widgets/controls",
            "_model_module_version": "1.5.0",
            "_model_name": "HBoxModel",
            "_view_count": null,
            "_view_module": "@jupyter-widgets/controls",
            "_view_module_version": "1.5.0",
            "_view_name": "HBoxView",
            "box_style": "",
            "children": [
              "IPY_MODEL_1b34d685fd5541ddb452172133a2196e",
              "IPY_MODEL_2ce0b99aa2de441ebaab9a828181b907",
              "IPY_MODEL_b2dc0fb2868544c6b0dc400a968f57d5"
            ],
            "layout": "IPY_MODEL_76d95653b9de48bc9fd7ca4460992a9a"
          }
        },
        "1b34d685fd5541ddb452172133a2196e": {
          "model_module": "@jupyter-widgets/controls",
          "model_name": "HTMLModel",
          "model_module_version": "1.5.0",
          "state": {
            "_dom_classes": [],
            "_model_module": "@jupyter-widgets/controls",
            "_model_module_version": "1.5.0",
            "_model_name": "HTMLModel",
            "_view_count": null,
            "_view_module": "@jupyter-widgets/controls",
            "_view_module_version": "1.5.0",
            "_view_name": "HTMLView",
            "description": "",
            "description_tooltip": null,
            "layout": "IPY_MODEL_05d12e8dc2654023a063dcd6f451ddb0",
            "placeholder": "​",
            "style": "IPY_MODEL_1da8cd5599ad4044a6cb28f75985057d",
            "value": "tokenizer_config.json: 100%"
          }
        },
        "2ce0b99aa2de441ebaab9a828181b907": {
          "model_module": "@jupyter-widgets/controls",
          "model_name": "FloatProgressModel",
          "model_module_version": "1.5.0",
          "state": {
            "_dom_classes": [],
            "_model_module": "@jupyter-widgets/controls",
            "_model_module_version": "1.5.0",
            "_model_name": "FloatProgressModel",
            "_view_count": null,
            "_view_module": "@jupyter-widgets/controls",
            "_view_module_version": "1.5.0",
            "_view_name": "ProgressView",
            "bar_style": "success",
            "description": "",
            "description_tooltip": null,
            "layout": "IPY_MODEL_41e7d0f3c0404e0091d03109627815e8",
            "max": 52,
            "min": 0,
            "orientation": "horizontal",
            "style": "IPY_MODEL_03ce8214e0ab48708e248e3a4c28fad8",
            "value": 52
          }
        },
        "b2dc0fb2868544c6b0dc400a968f57d5": {
          "model_module": "@jupyter-widgets/controls",
          "model_name": "HTMLModel",
          "model_module_version": "1.5.0",
          "state": {
            "_dom_classes": [],
            "_model_module": "@jupyter-widgets/controls",
            "_model_module_version": "1.5.0",
            "_model_name": "HTMLModel",
            "_view_count": null,
            "_view_module": "@jupyter-widgets/controls",
            "_view_module_version": "1.5.0",
            "_view_name": "HTMLView",
            "description": "",
            "description_tooltip": null,
            "layout": "IPY_MODEL_fd5139bf7f1a450eab16995cf8cc8194",
            "placeholder": "​",
            "style": "IPY_MODEL_5d7a7b6a773842d38cfa24d71bccee93",
            "value": " 52.0/52.0 [00:00&lt;00:00, 3.47kB/s]"
          }
        },
        "76d95653b9de48bc9fd7ca4460992a9a": {
          "model_module": "@jupyter-widgets/base",
          "model_name": "LayoutModel",
          "model_module_version": "1.2.0",
          "state": {
            "_model_module": "@jupyter-widgets/base",
            "_model_module_version": "1.2.0",
            "_model_name": "LayoutModel",
            "_view_count": null,
            "_view_module": "@jupyter-widgets/base",
            "_view_module_version": "1.2.0",
            "_view_name": "LayoutView",
            "align_content": null,
            "align_items": null,
            "align_self": null,
            "border": null,
            "bottom": null,
            "display": null,
            "flex": null,
            "flex_flow": null,
            "grid_area": null,
            "grid_auto_columns": null,
            "grid_auto_flow": null,
            "grid_auto_rows": null,
            "grid_column": null,
            "grid_gap": null,
            "grid_row": null,
            "grid_template_areas": null,
            "grid_template_columns": null,
            "grid_template_rows": null,
            "height": null,
            "justify_content": null,
            "justify_items": null,
            "left": null,
            "margin": null,
            "max_height": null,
            "max_width": null,
            "min_height": null,
            "min_width": null,
            "object_fit": null,
            "object_position": null,
            "order": null,
            "overflow": null,
            "overflow_x": null,
            "overflow_y": null,
            "padding": null,
            "right": null,
            "top": null,
            "visibility": null,
            "width": null
          }
        },
        "05d12e8dc2654023a063dcd6f451ddb0": {
          "model_module": "@jupyter-widgets/base",
          "model_name": "LayoutModel",
          "model_module_version": "1.2.0",
          "state": {
            "_model_module": "@jupyter-widgets/base",
            "_model_module_version": "1.2.0",
            "_model_name": "LayoutModel",
            "_view_count": null,
            "_view_module": "@jupyter-widgets/base",
            "_view_module_version": "1.2.0",
            "_view_name": "LayoutView",
            "align_content": null,
            "align_items": null,
            "align_self": null,
            "border": null,
            "bottom": null,
            "display": null,
            "flex": null,
            "flex_flow": null,
            "grid_area": null,
            "grid_auto_columns": null,
            "grid_auto_flow": null,
            "grid_auto_rows": null,
            "grid_column": null,
            "grid_gap": null,
            "grid_row": null,
            "grid_template_areas": null,
            "grid_template_columns": null,
            "grid_template_rows": null,
            "height": null,
            "justify_content": null,
            "justify_items": null,
            "left": null,
            "margin": null,
            "max_height": null,
            "max_width": null,
            "min_height": null,
            "min_width": null,
            "object_fit": null,
            "object_position": null,
            "order": null,
            "overflow": null,
            "overflow_x": null,
            "overflow_y": null,
            "padding": null,
            "right": null,
            "top": null,
            "visibility": null,
            "width": null
          }
        },
        "1da8cd5599ad4044a6cb28f75985057d": {
          "model_module": "@jupyter-widgets/controls",
          "model_name": "DescriptionStyleModel",
          "model_module_version": "1.5.0",
          "state": {
            "_model_module": "@jupyter-widgets/controls",
            "_model_module_version": "1.5.0",
            "_model_name": "DescriptionStyleModel",
            "_view_count": null,
            "_view_module": "@jupyter-widgets/base",
            "_view_module_version": "1.2.0",
            "_view_name": "StyleView",
            "description_width": ""
          }
        },
        "41e7d0f3c0404e0091d03109627815e8": {
          "model_module": "@jupyter-widgets/base",
          "model_name": "LayoutModel",
          "model_module_version": "1.2.0",
          "state": {
            "_model_module": "@jupyter-widgets/base",
            "_model_module_version": "1.2.0",
            "_model_name": "LayoutModel",
            "_view_count": null,
            "_view_module": "@jupyter-widgets/base",
            "_view_module_version": "1.2.0",
            "_view_name": "LayoutView",
            "align_content": null,
            "align_items": null,
            "align_self": null,
            "border": null,
            "bottom": null,
            "display": null,
            "flex": null,
            "flex_flow": null,
            "grid_area": null,
            "grid_auto_columns": null,
            "grid_auto_flow": null,
            "grid_auto_rows": null,
            "grid_column": null,
            "grid_gap": null,
            "grid_row": null,
            "grid_template_areas": null,
            "grid_template_columns": null,
            "grid_template_rows": null,
            "height": null,
            "justify_content": null,
            "justify_items": null,
            "left": null,
            "margin": null,
            "max_height": null,
            "max_width": null,
            "min_height": null,
            "min_width": null,
            "object_fit": null,
            "object_position": null,
            "order": null,
            "overflow": null,
            "overflow_x": null,
            "overflow_y": null,
            "padding": null,
            "right": null,
            "top": null,
            "visibility": null,
            "width": null
          }
        },
        "03ce8214e0ab48708e248e3a4c28fad8": {
          "model_module": "@jupyter-widgets/controls",
          "model_name": "ProgressStyleModel",
          "model_module_version": "1.5.0",
          "state": {
            "_model_module": "@jupyter-widgets/controls",
            "_model_module_version": "1.5.0",
            "_model_name": "ProgressStyleModel",
            "_view_count": null,
            "_view_module": "@jupyter-widgets/base",
            "_view_module_version": "1.2.0",
            "_view_name": "StyleView",
            "bar_color": null,
            "description_width": ""
          }
        },
        "fd5139bf7f1a450eab16995cf8cc8194": {
          "model_module": "@jupyter-widgets/base",
          "model_name": "LayoutModel",
          "model_module_version": "1.2.0",
          "state": {
            "_model_module": "@jupyter-widgets/base",
            "_model_module_version": "1.2.0",
            "_model_name": "LayoutModel",
            "_view_count": null,
            "_view_module": "@jupyter-widgets/base",
            "_view_module_version": "1.2.0",
            "_view_name": "LayoutView",
            "align_content": null,
            "align_items": null,
            "align_self": null,
            "border": null,
            "bottom": null,
            "display": null,
            "flex": null,
            "flex_flow": null,
            "grid_area": null,
            "grid_auto_columns": null,
            "grid_auto_flow": null,
            "grid_auto_rows": null,
            "grid_column": null,
            "grid_gap": null,
            "grid_row": null,
            "grid_template_areas": null,
            "grid_template_columns": null,
            "grid_template_rows": null,
            "height": null,
            "justify_content": null,
            "justify_items": null,
            "left": null,
            "margin": null,
            "max_height": null,
            "max_width": null,
            "min_height": null,
            "min_width": null,
            "object_fit": null,
            "object_position": null,
            "order": null,
            "overflow": null,
            "overflow_x": null,
            "overflow_y": null,
            "padding": null,
            "right": null,
            "top": null,
            "visibility": null,
            "width": null
          }
        },
        "5d7a7b6a773842d38cfa24d71bccee93": {
          "model_module": "@jupyter-widgets/controls",
          "model_name": "DescriptionStyleModel",
          "model_module_version": "1.5.0",
          "state": {
            "_model_module": "@jupyter-widgets/controls",
            "_model_module_version": "1.5.0",
            "_model_name": "DescriptionStyleModel",
            "_view_count": null,
            "_view_module": "@jupyter-widgets/base",
            "_view_module_version": "1.2.0",
            "_view_name": "StyleView",
            "description_width": ""
          }
        },
        "97bc74ad85d34321be084bc97407c399": {
          "model_module": "@jupyter-widgets/controls",
          "model_name": "HBoxModel",
          "model_module_version": "1.5.0",
          "state": {
            "_dom_classes": [],
            "_model_module": "@jupyter-widgets/controls",
            "_model_module_version": "1.5.0",
            "_model_name": "HBoxModel",
            "_view_count": null,
            "_view_module": "@jupyter-widgets/controls",
            "_view_module_version": "1.5.0",
            "_view_name": "HBoxView",
            "box_style": "",
            "children": [
              "IPY_MODEL_0e3c48ec6f6c483abb65b8f0f20356e1",
              "IPY_MODEL_09b1bd68d80143679b82dfeefda23040",
              "IPY_MODEL_0e9b537360f04737b78c09d261bb33bf"
            ],
            "layout": "IPY_MODEL_e04cd57af9864dba8700269709bee166"
          }
        },
        "0e3c48ec6f6c483abb65b8f0f20356e1": {
          "model_module": "@jupyter-widgets/controls",
          "model_name": "HTMLModel",
          "model_module_version": "1.5.0",
          "state": {
            "_dom_classes": [],
            "_model_module": "@jupyter-widgets/controls",
            "_model_module_version": "1.5.0",
            "_model_name": "HTMLModel",
            "_view_count": null,
            "_view_module": "@jupyter-widgets/controls",
            "_view_module_version": "1.5.0",
            "_view_name": "HTMLView",
            "description": "",
            "description_tooltip": null,
            "layout": "IPY_MODEL_8999baac9e1b4acc86eec1f030f7cd12",
            "placeholder": "​",
            "style": "IPY_MODEL_bd4754c710204a468d50163b1ae6fd60",
            "value": "config.json: 100%"
          }
        },
        "09b1bd68d80143679b82dfeefda23040": {
          "model_module": "@jupyter-widgets/controls",
          "model_name": "FloatProgressModel",
          "model_module_version": "1.5.0",
          "state": {
            "_dom_classes": [],
            "_model_module": "@jupyter-widgets/controls",
            "_model_module_version": "1.5.0",
            "_model_name": "FloatProgressModel",
            "_view_count": null,
            "_view_module": "@jupyter-widgets/controls",
            "_view_module_version": "1.5.0",
            "_view_name": "ProgressView",
            "bar_style": "success",
            "description": "",
            "description_tooltip": null,
            "layout": "IPY_MODEL_2745cb52eee146faaa99bb829bc7ef1f",
            "max": 792,
            "min": 0,
            "orientation": "horizontal",
            "style": "IPY_MODEL_fcc14e99aa5d47acbcd1814aeddc57b8",
            "value": 792
          }
        },
        "0e9b537360f04737b78c09d261bb33bf": {
          "model_module": "@jupyter-widgets/controls",
          "model_name": "HTMLModel",
          "model_module_version": "1.5.0",
          "state": {
            "_dom_classes": [],
            "_model_module": "@jupyter-widgets/controls",
            "_model_module_version": "1.5.0",
            "_model_name": "HTMLModel",
            "_view_count": null,
            "_view_module": "@jupyter-widgets/controls",
            "_view_module_version": "1.5.0",
            "_view_name": "HTMLView",
            "description": "",
            "description_tooltip": null,
            "layout": "IPY_MODEL_1e9c4c8a18494f6baa80cd93631f2cd7",
            "placeholder": "​",
            "style": "IPY_MODEL_b8c224a064ad4417ba9d20aee41e5ffe",
            "value": " 792/792 [00:00&lt;00:00, 36.9kB/s]"
          }
        },
        "e04cd57af9864dba8700269709bee166": {
          "model_module": "@jupyter-widgets/base",
          "model_name": "LayoutModel",
          "model_module_version": "1.2.0",
          "state": {
            "_model_module": "@jupyter-widgets/base",
            "_model_module_version": "1.2.0",
            "_model_name": "LayoutModel",
            "_view_count": null,
            "_view_module": "@jupyter-widgets/base",
            "_view_module_version": "1.2.0",
            "_view_name": "LayoutView",
            "align_content": null,
            "align_items": null,
            "align_self": null,
            "border": null,
            "bottom": null,
            "display": null,
            "flex": null,
            "flex_flow": null,
            "grid_area": null,
            "grid_auto_columns": null,
            "grid_auto_flow": null,
            "grid_auto_rows": null,
            "grid_column": null,
            "grid_gap": null,
            "grid_row": null,
            "grid_template_areas": null,
            "grid_template_columns": null,
            "grid_template_rows": null,
            "height": null,
            "justify_content": null,
            "justify_items": null,
            "left": null,
            "margin": null,
            "max_height": null,
            "max_width": null,
            "min_height": null,
            "min_width": null,
            "object_fit": null,
            "object_position": null,
            "order": null,
            "overflow": null,
            "overflow_x": null,
            "overflow_y": null,
            "padding": null,
            "right": null,
            "top": null,
            "visibility": null,
            "width": null
          }
        },
        "8999baac9e1b4acc86eec1f030f7cd12": {
          "model_module": "@jupyter-widgets/base",
          "model_name": "LayoutModel",
          "model_module_version": "1.2.0",
          "state": {
            "_model_module": "@jupyter-widgets/base",
            "_model_module_version": "1.2.0",
            "_model_name": "LayoutModel",
            "_view_count": null,
            "_view_module": "@jupyter-widgets/base",
            "_view_module_version": "1.2.0",
            "_view_name": "LayoutView",
            "align_content": null,
            "align_items": null,
            "align_self": null,
            "border": null,
            "bottom": null,
            "display": null,
            "flex": null,
            "flex_flow": null,
            "grid_area": null,
            "grid_auto_columns": null,
            "grid_auto_flow": null,
            "grid_auto_rows": null,
            "grid_column": null,
            "grid_gap": null,
            "grid_row": null,
            "grid_template_areas": null,
            "grid_template_columns": null,
            "grid_template_rows": null,
            "height": null,
            "justify_content": null,
            "justify_items": null,
            "left": null,
            "margin": null,
            "max_height": null,
            "max_width": null,
            "min_height": null,
            "min_width": null,
            "object_fit": null,
            "object_position": null,
            "order": null,
            "overflow": null,
            "overflow_x": null,
            "overflow_y": null,
            "padding": null,
            "right": null,
            "top": null,
            "visibility": null,
            "width": null
          }
        },
        "bd4754c710204a468d50163b1ae6fd60": {
          "model_module": "@jupyter-widgets/controls",
          "model_name": "DescriptionStyleModel",
          "model_module_version": "1.5.0",
          "state": {
            "_model_module": "@jupyter-widgets/controls",
            "_model_module_version": "1.5.0",
            "_model_name": "DescriptionStyleModel",
            "_view_count": null,
            "_view_module": "@jupyter-widgets/base",
            "_view_module_version": "1.2.0",
            "_view_name": "StyleView",
            "description_width": ""
          }
        },
        "2745cb52eee146faaa99bb829bc7ef1f": {
          "model_module": "@jupyter-widgets/base",
          "model_name": "LayoutModel",
          "model_module_version": "1.2.0",
          "state": {
            "_model_module": "@jupyter-widgets/base",
            "_model_module_version": "1.2.0",
            "_model_name": "LayoutModel",
            "_view_count": null,
            "_view_module": "@jupyter-widgets/base",
            "_view_module_version": "1.2.0",
            "_view_name": "LayoutView",
            "align_content": null,
            "align_items": null,
            "align_self": null,
            "border": null,
            "bottom": null,
            "display": null,
            "flex": null,
            "flex_flow": null,
            "grid_area": null,
            "grid_auto_columns": null,
            "grid_auto_flow": null,
            "grid_auto_rows": null,
            "grid_column": null,
            "grid_gap": null,
            "grid_row": null,
            "grid_template_areas": null,
            "grid_template_columns": null,
            "grid_template_rows": null,
            "height": null,
            "justify_content": null,
            "justify_items": null,
            "left": null,
            "margin": null,
            "max_height": null,
            "max_width": null,
            "min_height": null,
            "min_width": null,
            "object_fit": null,
            "object_position": null,
            "order": null,
            "overflow": null,
            "overflow_x": null,
            "overflow_y": null,
            "padding": null,
            "right": null,
            "top": null,
            "visibility": null,
            "width": null
          }
        },
        "fcc14e99aa5d47acbcd1814aeddc57b8": {
          "model_module": "@jupyter-widgets/controls",
          "model_name": "ProgressStyleModel",
          "model_module_version": "1.5.0",
          "state": {
            "_model_module": "@jupyter-widgets/controls",
            "_model_module_version": "1.5.0",
            "_model_name": "ProgressStyleModel",
            "_view_count": null,
            "_view_module": "@jupyter-widgets/base",
            "_view_module_version": "1.2.0",
            "_view_name": "StyleView",
            "bar_color": null,
            "description_width": ""
          }
        },
        "1e9c4c8a18494f6baa80cd93631f2cd7": {
          "model_module": "@jupyter-widgets/base",
          "model_name": "LayoutModel",
          "model_module_version": "1.2.0",
          "state": {
            "_model_module": "@jupyter-widgets/base",
            "_model_module_version": "1.2.0",
            "_model_name": "LayoutModel",
            "_view_count": null,
            "_view_module": "@jupyter-widgets/base",
            "_view_module_version": "1.2.0",
            "_view_name": "LayoutView",
            "align_content": null,
            "align_items": null,
            "align_self": null,
            "border": null,
            "bottom": null,
            "display": null,
            "flex": null,
            "flex_flow": null,
            "grid_area": null,
            "grid_auto_columns": null,
            "grid_auto_flow": null,
            "grid_auto_rows": null,
            "grid_column": null,
            "grid_gap": null,
            "grid_row": null,
            "grid_template_areas": null,
            "grid_template_columns": null,
            "grid_template_rows": null,
            "height": null,
            "justify_content": null,
            "justify_items": null,
            "left": null,
            "margin": null,
            "max_height": null,
            "max_width": null,
            "min_height": null,
            "min_width": null,
            "object_fit": null,
            "object_position": null,
            "order": null,
            "overflow": null,
            "overflow_x": null,
            "overflow_y": null,
            "padding": null,
            "right": null,
            "top": null,
            "visibility": null,
            "width": null
          }
        },
        "b8c224a064ad4417ba9d20aee41e5ffe": {
          "model_module": "@jupyter-widgets/controls",
          "model_name": "DescriptionStyleModel",
          "model_module_version": "1.5.0",
          "state": {
            "_model_module": "@jupyter-widgets/controls",
            "_model_module_version": "1.5.0",
            "_model_name": "DescriptionStyleModel",
            "_view_count": null,
            "_view_module": "@jupyter-widgets/base",
            "_view_module_version": "1.2.0",
            "_view_name": "StyleView",
            "description_width": ""
          }
        },
        "c621635508b04d7d87ac8a2744b525dc": {
          "model_module": "@jupyter-widgets/controls",
          "model_name": "HBoxModel",
          "model_module_version": "1.5.0",
          "state": {
            "_dom_classes": [],
            "_model_module": "@jupyter-widgets/controls",
            "_model_module_version": "1.5.0",
            "_model_name": "HBoxModel",
            "_view_count": null,
            "_view_module": "@jupyter-widgets/controls",
            "_view_module_version": "1.5.0",
            "_view_name": "HBoxView",
            "box_style": "",
            "children": [
              "IPY_MODEL_a423b8ac2c834a98aa41b96fc231db91",
              "IPY_MODEL_8d5d1e4c2bab4e1ab20ca0fd4f0fe90c",
              "IPY_MODEL_13154d5cd09748e9bcdaf6144c358e80"
            ],
            "layout": "IPY_MODEL_34be868f3c724c52aa24a56945e1d3b9"
          }
        },
        "a423b8ac2c834a98aa41b96fc231db91": {
          "model_module": "@jupyter-widgets/controls",
          "model_name": "HTMLModel",
          "model_module_version": "1.5.0",
          "state": {
            "_dom_classes": [],
            "_model_module": "@jupyter-widgets/controls",
            "_model_module_version": "1.5.0",
            "_model_name": "HTMLModel",
            "_view_count": null,
            "_view_module": "@jupyter-widgets/controls",
            "_view_module_version": "1.5.0",
            "_view_name": "HTMLView",
            "description": "",
            "description_tooltip": null,
            "layout": "IPY_MODEL_d2445d2278af49cfb7b5c10ee4ec869f",
            "placeholder": "​",
            "style": "IPY_MODEL_6259e7ccb6de4464a1d976e4c6f23f2c",
            "value": "vocab.json: 100%"
          }
        },
        "8d5d1e4c2bab4e1ab20ca0fd4f0fe90c": {
          "model_module": "@jupyter-widgets/controls",
          "model_name": "FloatProgressModel",
          "model_module_version": "1.5.0",
          "state": {
            "_dom_classes": [],
            "_model_module": "@jupyter-widgets/controls",
            "_model_module_version": "1.5.0",
            "_model_name": "FloatProgressModel",
            "_view_count": null,
            "_view_module": "@jupyter-widgets/controls",
            "_view_module_version": "1.5.0",
            "_view_name": "ProgressView",
            "bar_style": "success",
            "description": "",
            "description_tooltip": null,
            "layout": "IPY_MODEL_60b4863aa7fd457ea9996971c499d5c3",
            "max": 898825,
            "min": 0,
            "orientation": "horizontal",
            "style": "IPY_MODEL_70d0f0f06a2a4e0c86a40298a38e6a8f",
            "value": 898825
          }
        },
        "13154d5cd09748e9bcdaf6144c358e80": {
          "model_module": "@jupyter-widgets/controls",
          "model_name": "HTMLModel",
          "model_module_version": "1.5.0",
          "state": {
            "_dom_classes": [],
            "_model_module": "@jupyter-widgets/controls",
            "_model_module_version": "1.5.0",
            "_model_name": "HTMLModel",
            "_view_count": null,
            "_view_module": "@jupyter-widgets/controls",
            "_view_module_version": "1.5.0",
            "_view_name": "HTMLView",
            "description": "",
            "description_tooltip": null,
            "layout": "IPY_MODEL_7409e6b981ff4614b1db5df730aa6462",
            "placeholder": "​",
            "style": "IPY_MODEL_99b9498df53f438084a59cb279d3e99b",
            "value": " 899k/899k [00:00&lt;00:00, 8.92MB/s]"
          }
        },
        "34be868f3c724c52aa24a56945e1d3b9": {
          "model_module": "@jupyter-widgets/base",
          "model_name": "LayoutModel",
          "model_module_version": "1.2.0",
          "state": {
            "_model_module": "@jupyter-widgets/base",
            "_model_module_version": "1.2.0",
            "_model_name": "LayoutModel",
            "_view_count": null,
            "_view_module": "@jupyter-widgets/base",
            "_view_module_version": "1.2.0",
            "_view_name": "LayoutView",
            "align_content": null,
            "align_items": null,
            "align_self": null,
            "border": null,
            "bottom": null,
            "display": null,
            "flex": null,
            "flex_flow": null,
            "grid_area": null,
            "grid_auto_columns": null,
            "grid_auto_flow": null,
            "grid_auto_rows": null,
            "grid_column": null,
            "grid_gap": null,
            "grid_row": null,
            "grid_template_areas": null,
            "grid_template_columns": null,
            "grid_template_rows": null,
            "height": null,
            "justify_content": null,
            "justify_items": null,
            "left": null,
            "margin": null,
            "max_height": null,
            "max_width": null,
            "min_height": null,
            "min_width": null,
            "object_fit": null,
            "object_position": null,
            "order": null,
            "overflow": null,
            "overflow_x": null,
            "overflow_y": null,
            "padding": null,
            "right": null,
            "top": null,
            "visibility": null,
            "width": null
          }
        },
        "d2445d2278af49cfb7b5c10ee4ec869f": {
          "model_module": "@jupyter-widgets/base",
          "model_name": "LayoutModel",
          "model_module_version": "1.2.0",
          "state": {
            "_model_module": "@jupyter-widgets/base",
            "_model_module_version": "1.2.0",
            "_model_name": "LayoutModel",
            "_view_count": null,
            "_view_module": "@jupyter-widgets/base",
            "_view_module_version": "1.2.0",
            "_view_name": "LayoutView",
            "align_content": null,
            "align_items": null,
            "align_self": null,
            "border": null,
            "bottom": null,
            "display": null,
            "flex": null,
            "flex_flow": null,
            "grid_area": null,
            "grid_auto_columns": null,
            "grid_auto_flow": null,
            "grid_auto_rows": null,
            "grid_column": null,
            "grid_gap": null,
            "grid_row": null,
            "grid_template_areas": null,
            "grid_template_columns": null,
            "grid_template_rows": null,
            "height": null,
            "justify_content": null,
            "justify_items": null,
            "left": null,
            "margin": null,
            "max_height": null,
            "max_width": null,
            "min_height": null,
            "min_width": null,
            "object_fit": null,
            "object_position": null,
            "order": null,
            "overflow": null,
            "overflow_x": null,
            "overflow_y": null,
            "padding": null,
            "right": null,
            "top": null,
            "visibility": null,
            "width": null
          }
        },
        "6259e7ccb6de4464a1d976e4c6f23f2c": {
          "model_module": "@jupyter-widgets/controls",
          "model_name": "DescriptionStyleModel",
          "model_module_version": "1.5.0",
          "state": {
            "_model_module": "@jupyter-widgets/controls",
            "_model_module_version": "1.5.0",
            "_model_name": "DescriptionStyleModel",
            "_view_count": null,
            "_view_module": "@jupyter-widgets/base",
            "_view_module_version": "1.2.0",
            "_view_name": "StyleView",
            "description_width": ""
          }
        },
        "60b4863aa7fd457ea9996971c499d5c3": {
          "model_module": "@jupyter-widgets/base",
          "model_name": "LayoutModel",
          "model_module_version": "1.2.0",
          "state": {
            "_model_module": "@jupyter-widgets/base",
            "_model_module_version": "1.2.0",
            "_model_name": "LayoutModel",
            "_view_count": null,
            "_view_module": "@jupyter-widgets/base",
            "_view_module_version": "1.2.0",
            "_view_name": "LayoutView",
            "align_content": null,
            "align_items": null,
            "align_self": null,
            "border": null,
            "bottom": null,
            "display": null,
            "flex": null,
            "flex_flow": null,
            "grid_area": null,
            "grid_auto_columns": null,
            "grid_auto_flow": null,
            "grid_auto_rows": null,
            "grid_column": null,
            "grid_gap": null,
            "grid_row": null,
            "grid_template_areas": null,
            "grid_template_columns": null,
            "grid_template_rows": null,
            "height": null,
            "justify_content": null,
            "justify_items": null,
            "left": null,
            "margin": null,
            "max_height": null,
            "max_width": null,
            "min_height": null,
            "min_width": null,
            "object_fit": null,
            "object_position": null,
            "order": null,
            "overflow": null,
            "overflow_x": null,
            "overflow_y": null,
            "padding": null,
            "right": null,
            "top": null,
            "visibility": null,
            "width": null
          }
        },
        "70d0f0f06a2a4e0c86a40298a38e6a8f": {
          "model_module": "@jupyter-widgets/controls",
          "model_name": "ProgressStyleModel",
          "model_module_version": "1.5.0",
          "state": {
            "_model_module": "@jupyter-widgets/controls",
            "_model_module_version": "1.5.0",
            "_model_name": "ProgressStyleModel",
            "_view_count": null,
            "_view_module": "@jupyter-widgets/base",
            "_view_module_version": "1.2.0",
            "_view_name": "StyleView",
            "bar_color": null,
            "description_width": ""
          }
        },
        "7409e6b981ff4614b1db5df730aa6462": {
          "model_module": "@jupyter-widgets/base",
          "model_name": "LayoutModel",
          "model_module_version": "1.2.0",
          "state": {
            "_model_module": "@jupyter-widgets/base",
            "_model_module_version": "1.2.0",
            "_model_name": "LayoutModel",
            "_view_count": null,
            "_view_module": "@jupyter-widgets/base",
            "_view_module_version": "1.2.0",
            "_view_name": "LayoutView",
            "align_content": null,
            "align_items": null,
            "align_self": null,
            "border": null,
            "bottom": null,
            "display": null,
            "flex": null,
            "flex_flow": null,
            "grid_area": null,
            "grid_auto_columns": null,
            "grid_auto_flow": null,
            "grid_auto_rows": null,
            "grid_column": null,
            "grid_gap": null,
            "grid_row": null,
            "grid_template_areas": null,
            "grid_template_columns": null,
            "grid_template_rows": null,
            "height": null,
            "justify_content": null,
            "justify_items": null,
            "left": null,
            "margin": null,
            "max_height": null,
            "max_width": null,
            "min_height": null,
            "min_width": null,
            "object_fit": null,
            "object_position": null,
            "order": null,
            "overflow": null,
            "overflow_x": null,
            "overflow_y": null,
            "padding": null,
            "right": null,
            "top": null,
            "visibility": null,
            "width": null
          }
        },
        "99b9498df53f438084a59cb279d3e99b": {
          "model_module": "@jupyter-widgets/controls",
          "model_name": "DescriptionStyleModel",
          "model_module_version": "1.5.0",
          "state": {
            "_model_module": "@jupyter-widgets/controls",
            "_model_module_version": "1.5.0",
            "_model_name": "DescriptionStyleModel",
            "_view_count": null,
            "_view_module": "@jupyter-widgets/base",
            "_view_module_version": "1.2.0",
            "_view_name": "StyleView",
            "description_width": ""
          }
        },
        "47c9026b2e344c36a1992396ba476e35": {
          "model_module": "@jupyter-widgets/controls",
          "model_name": "HBoxModel",
          "model_module_version": "1.5.0",
          "state": {
            "_dom_classes": [],
            "_model_module": "@jupyter-widgets/controls",
            "_model_module_version": "1.5.0",
            "_model_name": "HBoxModel",
            "_view_count": null,
            "_view_module": "@jupyter-widgets/controls",
            "_view_module_version": "1.5.0",
            "_view_name": "HBoxView",
            "box_style": "",
            "children": [
              "IPY_MODEL_4e19718a77f64ad0870ed95e706d5617",
              "IPY_MODEL_7ce64076f1b34712bb9d3b70da704b71",
              "IPY_MODEL_eb3e22602eca469a8abed11618503632"
            ],
            "layout": "IPY_MODEL_899dd719abf94a34b0af3cc141b0edf9"
          }
        },
        "4e19718a77f64ad0870ed95e706d5617": {
          "model_module": "@jupyter-widgets/controls",
          "model_name": "HTMLModel",
          "model_module_version": "1.5.0",
          "state": {
            "_dom_classes": [],
            "_model_module": "@jupyter-widgets/controls",
            "_model_module_version": "1.5.0",
            "_model_name": "HTMLModel",
            "_view_count": null,
            "_view_module": "@jupyter-widgets/controls",
            "_view_module_version": "1.5.0",
            "_view_name": "HTMLView",
            "description": "",
            "description_tooltip": null,
            "layout": "IPY_MODEL_57682d2e979d4f638dd44f455626aaac",
            "placeholder": "​",
            "style": "IPY_MODEL_774318f99f564e5c9981b969f3583303",
            "value": "merges.txt: 100%"
          }
        },
        "7ce64076f1b34712bb9d3b70da704b71": {
          "model_module": "@jupyter-widgets/controls",
          "model_name": "FloatProgressModel",
          "model_module_version": "1.5.0",
          "state": {
            "_dom_classes": [],
            "_model_module": "@jupyter-widgets/controls",
            "_model_module_version": "1.5.0",
            "_model_name": "FloatProgressModel",
            "_view_count": null,
            "_view_module": "@jupyter-widgets/controls",
            "_view_module_version": "1.5.0",
            "_view_name": "ProgressView",
            "bar_style": "success",
            "description": "",
            "description_tooltip": null,
            "layout": "IPY_MODEL_a4e029be2f614db3b4f99eb5e353dd37",
            "max": 456318,
            "min": 0,
            "orientation": "horizontal",
            "style": "IPY_MODEL_5699494e7d91465ead6619661b5dee4a",
            "value": 456318
          }
        },
        "eb3e22602eca469a8abed11618503632": {
          "model_module": "@jupyter-widgets/controls",
          "model_name": "HTMLModel",
          "model_module_version": "1.5.0",
          "state": {
            "_dom_classes": [],
            "_model_module": "@jupyter-widgets/controls",
            "_model_module_version": "1.5.0",
            "_model_name": "HTMLModel",
            "_view_count": null,
            "_view_module": "@jupyter-widgets/controls",
            "_view_module_version": "1.5.0",
            "_view_name": "HTMLView",
            "description": "",
            "description_tooltip": null,
            "layout": "IPY_MODEL_77ae9ef448594e2593bf694967fe92a6",
            "placeholder": "​",
            "style": "IPY_MODEL_b5702d64a7dd442c9bd917159292dc27",
            "value": " 456k/456k [00:00&lt;00:00, 20.9MB/s]"
          }
        },
        "899dd719abf94a34b0af3cc141b0edf9": {
          "model_module": "@jupyter-widgets/base",
          "model_name": "LayoutModel",
          "model_module_version": "1.2.0",
          "state": {
            "_model_module": "@jupyter-widgets/base",
            "_model_module_version": "1.2.0",
            "_model_name": "LayoutModel",
            "_view_count": null,
            "_view_module": "@jupyter-widgets/base",
            "_view_module_version": "1.2.0",
            "_view_name": "LayoutView",
            "align_content": null,
            "align_items": null,
            "align_self": null,
            "border": null,
            "bottom": null,
            "display": null,
            "flex": null,
            "flex_flow": null,
            "grid_area": null,
            "grid_auto_columns": null,
            "grid_auto_flow": null,
            "grid_auto_rows": null,
            "grid_column": null,
            "grid_gap": null,
            "grid_row": null,
            "grid_template_areas": null,
            "grid_template_columns": null,
            "grid_template_rows": null,
            "height": null,
            "justify_content": null,
            "justify_items": null,
            "left": null,
            "margin": null,
            "max_height": null,
            "max_width": null,
            "min_height": null,
            "min_width": null,
            "object_fit": null,
            "object_position": null,
            "order": null,
            "overflow": null,
            "overflow_x": null,
            "overflow_y": null,
            "padding": null,
            "right": null,
            "top": null,
            "visibility": null,
            "width": null
          }
        },
        "57682d2e979d4f638dd44f455626aaac": {
          "model_module": "@jupyter-widgets/base",
          "model_name": "LayoutModel",
          "model_module_version": "1.2.0",
          "state": {
            "_model_module": "@jupyter-widgets/base",
            "_model_module_version": "1.2.0",
            "_model_name": "LayoutModel",
            "_view_count": null,
            "_view_module": "@jupyter-widgets/base",
            "_view_module_version": "1.2.0",
            "_view_name": "LayoutView",
            "align_content": null,
            "align_items": null,
            "align_self": null,
            "border": null,
            "bottom": null,
            "display": null,
            "flex": null,
            "flex_flow": null,
            "grid_area": null,
            "grid_auto_columns": null,
            "grid_auto_flow": null,
            "grid_auto_rows": null,
            "grid_column": null,
            "grid_gap": null,
            "grid_row": null,
            "grid_template_areas": null,
            "grid_template_columns": null,
            "grid_template_rows": null,
            "height": null,
            "justify_content": null,
            "justify_items": null,
            "left": null,
            "margin": null,
            "max_height": null,
            "max_width": null,
            "min_height": null,
            "min_width": null,
            "object_fit": null,
            "object_position": null,
            "order": null,
            "overflow": null,
            "overflow_x": null,
            "overflow_y": null,
            "padding": null,
            "right": null,
            "top": null,
            "visibility": null,
            "width": null
          }
        },
        "774318f99f564e5c9981b969f3583303": {
          "model_module": "@jupyter-widgets/controls",
          "model_name": "DescriptionStyleModel",
          "model_module_version": "1.5.0",
          "state": {
            "_model_module": "@jupyter-widgets/controls",
            "_model_module_version": "1.5.0",
            "_model_name": "DescriptionStyleModel",
            "_view_count": null,
            "_view_module": "@jupyter-widgets/base",
            "_view_module_version": "1.2.0",
            "_view_name": "StyleView",
            "description_width": ""
          }
        },
        "a4e029be2f614db3b4f99eb5e353dd37": {
          "model_module": "@jupyter-widgets/base",
          "model_name": "LayoutModel",
          "model_module_version": "1.2.0",
          "state": {
            "_model_module": "@jupyter-widgets/base",
            "_model_module_version": "1.2.0",
            "_model_name": "LayoutModel",
            "_view_count": null,
            "_view_module": "@jupyter-widgets/base",
            "_view_module_version": "1.2.0",
            "_view_name": "LayoutView",
            "align_content": null,
            "align_items": null,
            "align_self": null,
            "border": null,
            "bottom": null,
            "display": null,
            "flex": null,
            "flex_flow": null,
            "grid_area": null,
            "grid_auto_columns": null,
            "grid_auto_flow": null,
            "grid_auto_rows": null,
            "grid_column": null,
            "grid_gap": null,
            "grid_row": null,
            "grid_template_areas": null,
            "grid_template_columns": null,
            "grid_template_rows": null,
            "height": null,
            "justify_content": null,
            "justify_items": null,
            "left": null,
            "margin": null,
            "max_height": null,
            "max_width": null,
            "min_height": null,
            "min_width": null,
            "object_fit": null,
            "object_position": null,
            "order": null,
            "overflow": null,
            "overflow_x": null,
            "overflow_y": null,
            "padding": null,
            "right": null,
            "top": null,
            "visibility": null,
            "width": null
          }
        },
        "5699494e7d91465ead6619661b5dee4a": {
          "model_module": "@jupyter-widgets/controls",
          "model_name": "ProgressStyleModel",
          "model_module_version": "1.5.0",
          "state": {
            "_model_module": "@jupyter-widgets/controls",
            "_model_module_version": "1.5.0",
            "_model_name": "ProgressStyleModel",
            "_view_count": null,
            "_view_module": "@jupyter-widgets/base",
            "_view_module_version": "1.2.0",
            "_view_name": "StyleView",
            "bar_color": null,
            "description_width": ""
          }
        },
        "77ae9ef448594e2593bf694967fe92a6": {
          "model_module": "@jupyter-widgets/base",
          "model_name": "LayoutModel",
          "model_module_version": "1.2.0",
          "state": {
            "_model_module": "@jupyter-widgets/base",
            "_model_module_version": "1.2.0",
            "_model_name": "LayoutModel",
            "_view_count": null,
            "_view_module": "@jupyter-widgets/base",
            "_view_module_version": "1.2.0",
            "_view_name": "LayoutView",
            "align_content": null,
            "align_items": null,
            "align_self": null,
            "border": null,
            "bottom": null,
            "display": null,
            "flex": null,
            "flex_flow": null,
            "grid_area": null,
            "grid_auto_columns": null,
            "grid_auto_flow": null,
            "grid_auto_rows": null,
            "grid_column": null,
            "grid_gap": null,
            "grid_row": null,
            "grid_template_areas": null,
            "grid_template_columns": null,
            "grid_template_rows": null,
            "height": null,
            "justify_content": null,
            "justify_items": null,
            "left": null,
            "margin": null,
            "max_height": null,
            "max_width": null,
            "min_height": null,
            "min_width": null,
            "object_fit": null,
            "object_position": null,
            "order": null,
            "overflow": null,
            "overflow_x": null,
            "overflow_y": null,
            "padding": null,
            "right": null,
            "top": null,
            "visibility": null,
            "width": null
          }
        },
        "b5702d64a7dd442c9bd917159292dc27": {
          "model_module": "@jupyter-widgets/controls",
          "model_name": "DescriptionStyleModel",
          "model_module_version": "1.5.0",
          "state": {
            "_model_module": "@jupyter-widgets/controls",
            "_model_module_version": "1.5.0",
            "_model_name": "DescriptionStyleModel",
            "_view_count": null,
            "_view_module": "@jupyter-widgets/base",
            "_view_module_version": "1.2.0",
            "_view_name": "StyleView",
            "description_width": ""
          }
        },
        "fdc254e5b69b4a538fbbf4ca1ff4c3c1": {
          "model_module": "@jupyter-widgets/controls",
          "model_name": "HBoxModel",
          "model_module_version": "1.5.0",
          "state": {
            "_dom_classes": [],
            "_model_module": "@jupyter-widgets/controls",
            "_model_module_version": "1.5.0",
            "_model_name": "HBoxModel",
            "_view_count": null,
            "_view_module": "@jupyter-widgets/controls",
            "_view_module_version": "1.5.0",
            "_view_name": "HBoxView",
            "box_style": "",
            "children": [
              "IPY_MODEL_d1a94f200e644d7a8b8dc18bef9b42bc",
              "IPY_MODEL_c968dcf90bc14923a58ce282900a9973",
              "IPY_MODEL_69e0e84582bd4f92957085c1a9e06ded"
            ],
            "layout": "IPY_MODEL_0575b89b43bb421e911e8a70e7018a60"
          }
        },
        "d1a94f200e644d7a8b8dc18bef9b42bc": {
          "model_module": "@jupyter-widgets/controls",
          "model_name": "HTMLModel",
          "model_module_version": "1.5.0",
          "state": {
            "_dom_classes": [],
            "_model_module": "@jupyter-widgets/controls",
            "_model_module_version": "1.5.0",
            "_model_name": "HTMLModel",
            "_view_count": null,
            "_view_module": "@jupyter-widgets/controls",
            "_view_module_version": "1.5.0",
            "_view_name": "HTMLView",
            "description": "",
            "description_tooltip": null,
            "layout": "IPY_MODEL_515af51d0403421f8a71f35463a3a2f5",
            "placeholder": "​",
            "style": "IPY_MODEL_6642f2cda9f54497aa1ecc2f215c0b17",
            "value": "pytorch_model.bin: 100%"
          }
        },
        "c968dcf90bc14923a58ce282900a9973": {
          "model_module": "@jupyter-widgets/controls",
          "model_name": "FloatProgressModel",
          "model_module_version": "1.5.0",
          "state": {
            "_dom_classes": [],
            "_model_module": "@jupyter-widgets/controls",
            "_model_module_version": "1.5.0",
            "_model_name": "FloatProgressModel",
            "_view_count": null,
            "_view_module": "@jupyter-widgets/controls",
            "_view_module_version": "1.5.0",
            "_view_name": "ProgressView",
            "bar_style": "success",
            "description": "",
            "description_tooltip": null,
            "layout": "IPY_MODEL_fe168bbde60f4d82a03e2c43f0bea9a4",
            "max": 3035556896,
            "min": 0,
            "orientation": "horizontal",
            "style": "IPY_MODEL_6f2255451f814924a825c220f3cc19ce",
            "value": 3035556896
          }
        },
        "69e0e84582bd4f92957085c1a9e06ded": {
          "model_module": "@jupyter-widgets/controls",
          "model_name": "HTMLModel",
          "model_module_version": "1.5.0",
          "state": {
            "_dom_classes": [],
            "_model_module": "@jupyter-widgets/controls",
            "_model_module_version": "1.5.0",
            "_model_name": "HTMLModel",
            "_view_count": null,
            "_view_module": "@jupyter-widgets/controls",
            "_view_module_version": "1.5.0",
            "_view_name": "HTMLView",
            "description": "",
            "description_tooltip": null,
            "layout": "IPY_MODEL_cd5aeb37ae044e9caa2694941447a437",
            "placeholder": "​",
            "style": "IPY_MODEL_4c778be0f22a476e9563a483986be654",
            "value": " 3.04G/3.04G [00:27&lt;00:00, 145MB/s]"
          }
        },
        "0575b89b43bb421e911e8a70e7018a60": {
          "model_module": "@jupyter-widgets/base",
          "model_name": "LayoutModel",
          "model_module_version": "1.2.0",
          "state": {
            "_model_module": "@jupyter-widgets/base",
            "_model_module_version": "1.2.0",
            "_model_name": "LayoutModel",
            "_view_count": null,
            "_view_module": "@jupyter-widgets/base",
            "_view_module_version": "1.2.0",
            "_view_name": "LayoutView",
            "align_content": null,
            "align_items": null,
            "align_self": null,
            "border": null,
            "bottom": null,
            "display": null,
            "flex": null,
            "flex_flow": null,
            "grid_area": null,
            "grid_auto_columns": null,
            "grid_auto_flow": null,
            "grid_auto_rows": null,
            "grid_column": null,
            "grid_gap": null,
            "grid_row": null,
            "grid_template_areas": null,
            "grid_template_columns": null,
            "grid_template_rows": null,
            "height": null,
            "justify_content": null,
            "justify_items": null,
            "left": null,
            "margin": null,
            "max_height": null,
            "max_width": null,
            "min_height": null,
            "min_width": null,
            "object_fit": null,
            "object_position": null,
            "order": null,
            "overflow": null,
            "overflow_x": null,
            "overflow_y": null,
            "padding": null,
            "right": null,
            "top": null,
            "visibility": null,
            "width": null
          }
        },
        "515af51d0403421f8a71f35463a3a2f5": {
          "model_module": "@jupyter-widgets/base",
          "model_name": "LayoutModel",
          "model_module_version": "1.2.0",
          "state": {
            "_model_module": "@jupyter-widgets/base",
            "_model_module_version": "1.2.0",
            "_model_name": "LayoutModel",
            "_view_count": null,
            "_view_module": "@jupyter-widgets/base",
            "_view_module_version": "1.2.0",
            "_view_name": "LayoutView",
            "align_content": null,
            "align_items": null,
            "align_self": null,
            "border": null,
            "bottom": null,
            "display": null,
            "flex": null,
            "flex_flow": null,
            "grid_area": null,
            "grid_auto_columns": null,
            "grid_auto_flow": null,
            "grid_auto_rows": null,
            "grid_column": null,
            "grid_gap": null,
            "grid_row": null,
            "grid_template_areas": null,
            "grid_template_columns": null,
            "grid_template_rows": null,
            "height": null,
            "justify_content": null,
            "justify_items": null,
            "left": null,
            "margin": null,
            "max_height": null,
            "max_width": null,
            "min_height": null,
            "min_width": null,
            "object_fit": null,
            "object_position": null,
            "order": null,
            "overflow": null,
            "overflow_x": null,
            "overflow_y": null,
            "padding": null,
            "right": null,
            "top": null,
            "visibility": null,
            "width": null
          }
        },
        "6642f2cda9f54497aa1ecc2f215c0b17": {
          "model_module": "@jupyter-widgets/controls",
          "model_name": "DescriptionStyleModel",
          "model_module_version": "1.5.0",
          "state": {
            "_model_module": "@jupyter-widgets/controls",
            "_model_module_version": "1.5.0",
            "_model_name": "DescriptionStyleModel",
            "_view_count": null,
            "_view_module": "@jupyter-widgets/base",
            "_view_module_version": "1.2.0",
            "_view_name": "StyleView",
            "description_width": ""
          }
        },
        "fe168bbde60f4d82a03e2c43f0bea9a4": {
          "model_module": "@jupyter-widgets/base",
          "model_name": "LayoutModel",
          "model_module_version": "1.2.0",
          "state": {
            "_model_module": "@jupyter-widgets/base",
            "_model_module_version": "1.2.0",
            "_model_name": "LayoutModel",
            "_view_count": null,
            "_view_module": "@jupyter-widgets/base",
            "_view_module_version": "1.2.0",
            "_view_name": "LayoutView",
            "align_content": null,
            "align_items": null,
            "align_self": null,
            "border": null,
            "bottom": null,
            "display": null,
            "flex": null,
            "flex_flow": null,
            "grid_area": null,
            "grid_auto_columns": null,
            "grid_auto_flow": null,
            "grid_auto_rows": null,
            "grid_column": null,
            "grid_gap": null,
            "grid_row": null,
            "grid_template_areas": null,
            "grid_template_columns": null,
            "grid_template_rows": null,
            "height": null,
            "justify_content": null,
            "justify_items": null,
            "left": null,
            "margin": null,
            "max_height": null,
            "max_width": null,
            "min_height": null,
            "min_width": null,
            "object_fit": null,
            "object_position": null,
            "order": null,
            "overflow": null,
            "overflow_x": null,
            "overflow_y": null,
            "padding": null,
            "right": null,
            "top": null,
            "visibility": null,
            "width": null
          }
        },
        "6f2255451f814924a825c220f3cc19ce": {
          "model_module": "@jupyter-widgets/controls",
          "model_name": "ProgressStyleModel",
          "model_module_version": "1.5.0",
          "state": {
            "_model_module": "@jupyter-widgets/controls",
            "_model_module_version": "1.5.0",
            "_model_name": "ProgressStyleModel",
            "_view_count": null,
            "_view_module": "@jupyter-widgets/base",
            "_view_module_version": "1.2.0",
            "_view_name": "StyleView",
            "bar_color": null,
            "description_width": ""
          }
        },
        "cd5aeb37ae044e9caa2694941447a437": {
          "model_module": "@jupyter-widgets/base",
          "model_name": "LayoutModel",
          "model_module_version": "1.2.0",
          "state": {
            "_model_module": "@jupyter-widgets/base",
            "_model_module_version": "1.2.0",
            "_model_name": "LayoutModel",
            "_view_count": null,
            "_view_module": "@jupyter-widgets/base",
            "_view_module_version": "1.2.0",
            "_view_name": "LayoutView",
            "align_content": null,
            "align_items": null,
            "align_self": null,
            "border": null,
            "bottom": null,
            "display": null,
            "flex": null,
            "flex_flow": null,
            "grid_area": null,
            "grid_auto_columns": null,
            "grid_auto_flow": null,
            "grid_auto_rows": null,
            "grid_column": null,
            "grid_gap": null,
            "grid_row": null,
            "grid_template_areas": null,
            "grid_template_columns": null,
            "grid_template_rows": null,
            "height": null,
            "justify_content": null,
            "justify_items": null,
            "left": null,
            "margin": null,
            "max_height": null,
            "max_width": null,
            "min_height": null,
            "min_width": null,
            "object_fit": null,
            "object_position": null,
            "order": null,
            "overflow": null,
            "overflow_x": null,
            "overflow_y": null,
            "padding": null,
            "right": null,
            "top": null,
            "visibility": null,
            "width": null
          }
        },
        "4c778be0f22a476e9563a483986be654": {
          "model_module": "@jupyter-widgets/controls",
          "model_name": "DescriptionStyleModel",
          "model_module_version": "1.5.0",
          "state": {
            "_model_module": "@jupyter-widgets/controls",
            "_model_module_version": "1.5.0",
            "_model_name": "DescriptionStyleModel",
            "_view_count": null,
            "_view_module": "@jupyter-widgets/base",
            "_view_module_version": "1.2.0",
            "_view_name": "StyleView",
            "description_width": ""
          }
        }
      }
    }
  },
  "cells": [
    {
      "cell_type": "code",
      "execution_count": null,
      "metadata": {
        "id": "yrKb-Q8tlQbW",
        "colab": {
          "base_uri": "https://localhost:8080/"
        },
        "outputId": "0d44ba97-75c7-42e0-8510-151f32c4f9e2"
      },
      "outputs": [
        {
          "output_type": "stream",
          "name": "stdout",
          "text": [
            "Requirement already satisfied: datasets in /usr/local/lib/python3.10/dist-packages (2.15.0)\n",
            "Requirement already satisfied: numpy>=1.17 in /usr/local/lib/python3.10/dist-packages (from datasets) (1.23.5)\n",
            "Requirement already satisfied: pyarrow>=8.0.0 in /usr/local/lib/python3.10/dist-packages (from datasets) (10.0.1)\n",
            "Requirement already satisfied: pyarrow-hotfix in /usr/local/lib/python3.10/dist-packages (from datasets) (0.6)\n",
            "Requirement already satisfied: dill<0.3.8,>=0.3.0 in /usr/local/lib/python3.10/dist-packages (from datasets) (0.3.7)\n",
            "Requirement already satisfied: pandas in /usr/local/lib/python3.10/dist-packages (from datasets) (1.5.3)\n",
            "Requirement already satisfied: requests>=2.19.0 in /usr/local/lib/python3.10/dist-packages (from datasets) (2.31.0)\n",
            "Requirement already satisfied: tqdm>=4.62.1 in /usr/local/lib/python3.10/dist-packages (from datasets) (4.66.1)\n",
            "Requirement already satisfied: xxhash in /usr/local/lib/python3.10/dist-packages (from datasets) (3.4.1)\n",
            "Requirement already satisfied: multiprocess in /usr/local/lib/python3.10/dist-packages (from datasets) (0.70.15)\n",
            "Requirement already satisfied: fsspec[http]<=2023.10.0,>=2023.1.0 in /usr/local/lib/python3.10/dist-packages (from datasets) (2023.6.0)\n",
            "Requirement already satisfied: aiohttp in /usr/local/lib/python3.10/dist-packages (from datasets) (3.9.1)\n",
            "Requirement already satisfied: huggingface-hub>=0.18.0 in /usr/local/lib/python3.10/dist-packages (from datasets) (0.19.4)\n",
            "Requirement already satisfied: packaging in /usr/local/lib/python3.10/dist-packages (from datasets) (23.2)\n",
            "Requirement already satisfied: pyyaml>=5.1 in /usr/local/lib/python3.10/dist-packages (from datasets) (6.0.1)\n",
            "Requirement already satisfied: attrs>=17.3.0 in /usr/local/lib/python3.10/dist-packages (from aiohttp->datasets) (23.1.0)\n",
            "Requirement already satisfied: multidict<7.0,>=4.5 in /usr/local/lib/python3.10/dist-packages (from aiohttp->datasets) (6.0.4)\n",
            "Requirement already satisfied: yarl<2.0,>=1.0 in /usr/local/lib/python3.10/dist-packages (from aiohttp->datasets) (1.9.4)\n",
            "Requirement already satisfied: frozenlist>=1.1.1 in /usr/local/lib/python3.10/dist-packages (from aiohttp->datasets) (1.4.0)\n",
            "Requirement already satisfied: aiosignal>=1.1.2 in /usr/local/lib/python3.10/dist-packages (from aiohttp->datasets) (1.3.1)\n",
            "Requirement already satisfied: async-timeout<5.0,>=4.0 in /usr/local/lib/python3.10/dist-packages (from aiohttp->datasets) (4.0.3)\n",
            "Requirement already satisfied: filelock in /usr/local/lib/python3.10/dist-packages (from huggingface-hub>=0.18.0->datasets) (3.13.1)\n",
            "Requirement already satisfied: typing-extensions>=3.7.4.3 in /usr/local/lib/python3.10/dist-packages (from huggingface-hub>=0.18.0->datasets) (4.5.0)\n",
            "Requirement already satisfied: charset-normalizer<4,>=2 in /usr/local/lib/python3.10/dist-packages (from requests>=2.19.0->datasets) (3.3.2)\n",
            "Requirement already satisfied: idna<4,>=2.5 in /usr/local/lib/python3.10/dist-packages (from requests>=2.19.0->datasets) (3.6)\n",
            "Requirement already satisfied: urllib3<3,>=1.21.1 in /usr/local/lib/python3.10/dist-packages (from requests>=2.19.0->datasets) (2.0.7)\n",
            "Requirement already satisfied: certifi>=2017.4.17 in /usr/local/lib/python3.10/dist-packages (from requests>=2.19.0->datasets) (2023.11.17)\n",
            "Requirement already satisfied: python-dateutil>=2.8.1 in /usr/local/lib/python3.10/dist-packages (from pandas->datasets) (2.8.2)\n",
            "Requirement already satisfied: pytz>=2020.1 in /usr/local/lib/python3.10/dist-packages (from pandas->datasets) (2023.3.post1)\n",
            "Requirement already satisfied: six>=1.5 in /usr/local/lib/python3.10/dist-packages (from python-dateutil>=2.8.1->pandas->datasets) (1.16.0)\n",
            "Requirement already satisfied: bert-score in /usr/local/lib/python3.10/dist-packages (0.3.13)\n",
            "Requirement already satisfied: torch>=1.0.0 in /usr/local/lib/python3.10/dist-packages (from bert-score) (2.1.0+cu121)\n",
            "Requirement already satisfied: pandas>=1.0.1 in /usr/local/lib/python3.10/dist-packages (from bert-score) (1.5.3)\n",
            "Requirement already satisfied: transformers>=3.0.0 in /usr/local/lib/python3.10/dist-packages (from bert-score) (4.35.2)\n",
            "Requirement already satisfied: numpy in /usr/local/lib/python3.10/dist-packages (from bert-score) (1.23.5)\n",
            "Requirement already satisfied: requests in /usr/local/lib/python3.10/dist-packages (from bert-score) (2.31.0)\n",
            "Requirement already satisfied: tqdm>=4.31.1 in /usr/local/lib/python3.10/dist-packages (from bert-score) (4.66.1)\n",
            "Requirement already satisfied: matplotlib in /usr/local/lib/python3.10/dist-packages (from bert-score) (3.7.1)\n",
            "Requirement already satisfied: packaging>=20.9 in /usr/local/lib/python3.10/dist-packages (from bert-score) (23.2)\n",
            "Requirement already satisfied: python-dateutil>=2.8.1 in /usr/local/lib/python3.10/dist-packages (from pandas>=1.0.1->bert-score) (2.8.2)\n",
            "Requirement already satisfied: pytz>=2020.1 in /usr/local/lib/python3.10/dist-packages (from pandas>=1.0.1->bert-score) (2023.3.post1)\n",
            "Requirement already satisfied: filelock in /usr/local/lib/python3.10/dist-packages (from torch>=1.0.0->bert-score) (3.13.1)\n",
            "Requirement already satisfied: typing-extensions in /usr/local/lib/python3.10/dist-packages (from torch>=1.0.0->bert-score) (4.5.0)\n",
            "Requirement already satisfied: sympy in /usr/local/lib/python3.10/dist-packages (from torch>=1.0.0->bert-score) (1.12)\n",
            "Requirement already satisfied: networkx in /usr/local/lib/python3.10/dist-packages (from torch>=1.0.0->bert-score) (3.2.1)\n",
            "Requirement already satisfied: jinja2 in /usr/local/lib/python3.10/dist-packages (from torch>=1.0.0->bert-score) (3.1.2)\n",
            "Requirement already satisfied: fsspec in /usr/local/lib/python3.10/dist-packages (from torch>=1.0.0->bert-score) (2023.6.0)\n",
            "Requirement already satisfied: triton==2.1.0 in /usr/local/lib/python3.10/dist-packages (from torch>=1.0.0->bert-score) (2.1.0)\n",
            "Requirement already satisfied: huggingface-hub<1.0,>=0.16.4 in /usr/local/lib/python3.10/dist-packages (from transformers>=3.0.0->bert-score) (0.19.4)\n",
            "Requirement already satisfied: pyyaml>=5.1 in /usr/local/lib/python3.10/dist-packages (from transformers>=3.0.0->bert-score) (6.0.1)\n",
            "Requirement already satisfied: regex!=2019.12.17 in /usr/local/lib/python3.10/dist-packages (from transformers>=3.0.0->bert-score) (2023.6.3)\n",
            "Requirement already satisfied: tokenizers<0.19,>=0.14 in /usr/local/lib/python3.10/dist-packages (from transformers>=3.0.0->bert-score) (0.15.0)\n",
            "Requirement already satisfied: safetensors>=0.3.1 in /usr/local/lib/python3.10/dist-packages (from transformers>=3.0.0->bert-score) (0.4.1)\n",
            "Requirement already satisfied: contourpy>=1.0.1 in /usr/local/lib/python3.10/dist-packages (from matplotlib->bert-score) (1.2.0)\n",
            "Requirement already satisfied: cycler>=0.10 in /usr/local/lib/python3.10/dist-packages (from matplotlib->bert-score) (0.12.1)\n",
            "Requirement already satisfied: fonttools>=4.22.0 in /usr/local/lib/python3.10/dist-packages (from matplotlib->bert-score) (4.46.0)\n",
            "Requirement already satisfied: kiwisolver>=1.0.1 in /usr/local/lib/python3.10/dist-packages (from matplotlib->bert-score) (1.4.5)\n",
            "Requirement already satisfied: pillow>=6.2.0 in /usr/local/lib/python3.10/dist-packages (from matplotlib->bert-score) (9.4.0)\n",
            "Requirement already satisfied: pyparsing>=2.3.1 in /usr/local/lib/python3.10/dist-packages (from matplotlib->bert-score) (3.1.1)\n",
            "Requirement already satisfied: charset-normalizer<4,>=2 in /usr/local/lib/python3.10/dist-packages (from requests->bert-score) (3.3.2)\n",
            "Requirement already satisfied: idna<4,>=2.5 in /usr/local/lib/python3.10/dist-packages (from requests->bert-score) (3.6)\n",
            "Requirement already satisfied: urllib3<3,>=1.21.1 in /usr/local/lib/python3.10/dist-packages (from requests->bert-score) (2.0.7)\n",
            "Requirement already satisfied: certifi>=2017.4.17 in /usr/local/lib/python3.10/dist-packages (from requests->bert-score) (2023.11.17)\n",
            "Requirement already satisfied: six>=1.5 in /usr/local/lib/python3.10/dist-packages (from python-dateutil>=2.8.1->pandas>=1.0.1->bert-score) (1.16.0)\n",
            "Requirement already satisfied: MarkupSafe>=2.0 in /usr/local/lib/python3.10/dist-packages (from jinja2->torch>=1.0.0->bert-score) (2.1.3)\n",
            "Requirement already satisfied: mpmath>=0.19 in /usr/local/lib/python3.10/dist-packages (from sympy->torch>=1.0.0->bert-score) (1.3.0)\n",
            "Requirement already satisfied: load in /usr/local/lib/python3.10/dist-packages (2020.12.3)\n",
            "Requirement already satisfied: evaluate in /usr/local/lib/python3.10/dist-packages (0.4.1)\n",
            "Requirement already satisfied: datasets>=2.0.0 in /usr/local/lib/python3.10/dist-packages (from evaluate) (2.15.0)\n",
            "Requirement already satisfied: numpy>=1.17 in /usr/local/lib/python3.10/dist-packages (from evaluate) (1.23.5)\n",
            "Requirement already satisfied: dill in /usr/local/lib/python3.10/dist-packages (from evaluate) (0.3.7)\n",
            "Requirement already satisfied: pandas in /usr/local/lib/python3.10/dist-packages (from evaluate) (1.5.3)\n",
            "Requirement already satisfied: requests>=2.19.0 in /usr/local/lib/python3.10/dist-packages (from evaluate) (2.31.0)\n",
            "Requirement already satisfied: tqdm>=4.62.1 in /usr/local/lib/python3.10/dist-packages (from evaluate) (4.66.1)\n",
            "Requirement already satisfied: xxhash in /usr/local/lib/python3.10/dist-packages (from evaluate) (3.4.1)\n",
            "Requirement already satisfied: multiprocess in /usr/local/lib/python3.10/dist-packages (from evaluate) (0.70.15)\n",
            "Requirement already satisfied: fsspec[http]>=2021.05.0 in /usr/local/lib/python3.10/dist-packages (from evaluate) (2023.6.0)\n",
            "Requirement already satisfied: huggingface-hub>=0.7.0 in /usr/local/lib/python3.10/dist-packages (from evaluate) (0.19.4)\n",
            "Requirement already satisfied: packaging in /usr/local/lib/python3.10/dist-packages (from evaluate) (23.2)\n",
            "Requirement already satisfied: responses<0.19 in /usr/local/lib/python3.10/dist-packages (from evaluate) (0.18.0)\n",
            "Requirement already satisfied: pyarrow>=8.0.0 in /usr/local/lib/python3.10/dist-packages (from datasets>=2.0.0->evaluate) (10.0.1)\n",
            "Requirement already satisfied: pyarrow-hotfix in /usr/local/lib/python3.10/dist-packages (from datasets>=2.0.0->evaluate) (0.6)\n",
            "Requirement already satisfied: aiohttp in /usr/local/lib/python3.10/dist-packages (from datasets>=2.0.0->evaluate) (3.9.1)\n",
            "Requirement already satisfied: pyyaml>=5.1 in /usr/local/lib/python3.10/dist-packages (from datasets>=2.0.0->evaluate) (6.0.1)\n",
            "Requirement already satisfied: filelock in /usr/local/lib/python3.10/dist-packages (from huggingface-hub>=0.7.0->evaluate) (3.13.1)\n",
            "Requirement already satisfied: typing-extensions>=3.7.4.3 in /usr/local/lib/python3.10/dist-packages (from huggingface-hub>=0.7.0->evaluate) (4.5.0)\n",
            "Requirement already satisfied: charset-normalizer<4,>=2 in /usr/local/lib/python3.10/dist-packages (from requests>=2.19.0->evaluate) (3.3.2)\n",
            "Requirement already satisfied: idna<4,>=2.5 in /usr/local/lib/python3.10/dist-packages (from requests>=2.19.0->evaluate) (3.6)\n",
            "Requirement already satisfied: urllib3<3,>=1.21.1 in /usr/local/lib/python3.10/dist-packages (from requests>=2.19.0->evaluate) (2.0.7)\n",
            "Requirement already satisfied: certifi>=2017.4.17 in /usr/local/lib/python3.10/dist-packages (from requests>=2.19.0->evaluate) (2023.11.17)\n",
            "Requirement already satisfied: python-dateutil>=2.8.1 in /usr/local/lib/python3.10/dist-packages (from pandas->evaluate) (2.8.2)\n",
            "Requirement already satisfied: pytz>=2020.1 in /usr/local/lib/python3.10/dist-packages (from pandas->evaluate) (2023.3.post1)\n",
            "Requirement already satisfied: attrs>=17.3.0 in /usr/local/lib/python3.10/dist-packages (from aiohttp->datasets>=2.0.0->evaluate) (23.1.0)\n",
            "Requirement already satisfied: multidict<7.0,>=4.5 in /usr/local/lib/python3.10/dist-packages (from aiohttp->datasets>=2.0.0->evaluate) (6.0.4)\n",
            "Requirement already satisfied: yarl<2.0,>=1.0 in /usr/local/lib/python3.10/dist-packages (from aiohttp->datasets>=2.0.0->evaluate) (1.9.4)\n",
            "Requirement already satisfied: frozenlist>=1.1.1 in /usr/local/lib/python3.10/dist-packages (from aiohttp->datasets>=2.0.0->evaluate) (1.4.0)\n",
            "Requirement already satisfied: aiosignal>=1.1.2 in /usr/local/lib/python3.10/dist-packages (from aiohttp->datasets>=2.0.0->evaluate) (1.3.1)\n",
            "Requirement already satisfied: async-timeout<5.0,>=4.0 in /usr/local/lib/python3.10/dist-packages (from aiohttp->datasets>=2.0.0->evaluate) (4.0.3)\n",
            "Requirement already satisfied: six>=1.5 in /usr/local/lib/python3.10/dist-packages (from python-dateutil>=2.8.1->pandas->evaluate) (1.16.0)\n",
            "Requirement already satisfied: bert-score in /usr/local/lib/python3.10/dist-packages (0.3.13)\n",
            "Requirement already satisfied: torch>=1.0.0 in /usr/local/lib/python3.10/dist-packages (from bert-score) (2.1.0+cu121)\n",
            "Requirement already satisfied: pandas>=1.0.1 in /usr/local/lib/python3.10/dist-packages (from bert-score) (1.5.3)\n",
            "Requirement already satisfied: transformers>=3.0.0 in /usr/local/lib/python3.10/dist-packages (from bert-score) (4.35.2)\n",
            "Requirement already satisfied: numpy in /usr/local/lib/python3.10/dist-packages (from bert-score) (1.23.5)\n",
            "Requirement already satisfied: requests in /usr/local/lib/python3.10/dist-packages (from bert-score) (2.31.0)\n",
            "Requirement already satisfied: tqdm>=4.31.1 in /usr/local/lib/python3.10/dist-packages (from bert-score) (4.66.1)\n",
            "Requirement already satisfied: matplotlib in /usr/local/lib/python3.10/dist-packages (from bert-score) (3.7.1)\n",
            "Requirement already satisfied: packaging>=20.9 in /usr/local/lib/python3.10/dist-packages (from bert-score) (23.2)\n",
            "Requirement already satisfied: python-dateutil>=2.8.1 in /usr/local/lib/python3.10/dist-packages (from pandas>=1.0.1->bert-score) (2.8.2)\n",
            "Requirement already satisfied: pytz>=2020.1 in /usr/local/lib/python3.10/dist-packages (from pandas>=1.0.1->bert-score) (2023.3.post1)\n",
            "Requirement already satisfied: filelock in /usr/local/lib/python3.10/dist-packages (from torch>=1.0.0->bert-score) (3.13.1)\n",
            "Requirement already satisfied: typing-extensions in /usr/local/lib/python3.10/dist-packages (from torch>=1.0.0->bert-score) (4.5.0)\n",
            "Requirement already satisfied: sympy in /usr/local/lib/python3.10/dist-packages (from torch>=1.0.0->bert-score) (1.12)\n",
            "Requirement already satisfied: networkx in /usr/local/lib/python3.10/dist-packages (from torch>=1.0.0->bert-score) (3.2.1)\n",
            "Requirement already satisfied: jinja2 in /usr/local/lib/python3.10/dist-packages (from torch>=1.0.0->bert-score) (3.1.2)\n",
            "Requirement already satisfied: fsspec in /usr/local/lib/python3.10/dist-packages (from torch>=1.0.0->bert-score) (2023.6.0)\n",
            "Requirement already satisfied: triton==2.1.0 in /usr/local/lib/python3.10/dist-packages (from torch>=1.0.0->bert-score) (2.1.0)\n",
            "Requirement already satisfied: huggingface-hub<1.0,>=0.16.4 in /usr/local/lib/python3.10/dist-packages (from transformers>=3.0.0->bert-score) (0.19.4)\n",
            "Requirement already satisfied: pyyaml>=5.1 in /usr/local/lib/python3.10/dist-packages (from transformers>=3.0.0->bert-score) (6.0.1)\n",
            "Requirement already satisfied: regex!=2019.12.17 in /usr/local/lib/python3.10/dist-packages (from transformers>=3.0.0->bert-score) (2023.6.3)\n",
            "Requirement already satisfied: tokenizers<0.19,>=0.14 in /usr/local/lib/python3.10/dist-packages (from transformers>=3.0.0->bert-score) (0.15.0)\n",
            "Requirement already satisfied: safetensors>=0.3.1 in /usr/local/lib/python3.10/dist-packages (from transformers>=3.0.0->bert-score) (0.4.1)\n",
            "Requirement already satisfied: contourpy>=1.0.1 in /usr/local/lib/python3.10/dist-packages (from matplotlib->bert-score) (1.2.0)\n",
            "Requirement already satisfied: cycler>=0.10 in /usr/local/lib/python3.10/dist-packages (from matplotlib->bert-score) (0.12.1)\n",
            "Requirement already satisfied: fonttools>=4.22.0 in /usr/local/lib/python3.10/dist-packages (from matplotlib->bert-score) (4.46.0)\n",
            "Requirement already satisfied: kiwisolver>=1.0.1 in /usr/local/lib/python3.10/dist-packages (from matplotlib->bert-score) (1.4.5)\n",
            "Requirement already satisfied: pillow>=6.2.0 in /usr/local/lib/python3.10/dist-packages (from matplotlib->bert-score) (9.4.0)\n",
            "Requirement already satisfied: pyparsing>=2.3.1 in /usr/local/lib/python3.10/dist-packages (from matplotlib->bert-score) (3.1.1)\n",
            "Requirement already satisfied: charset-normalizer<4,>=2 in /usr/local/lib/python3.10/dist-packages (from requests->bert-score) (3.3.2)\n",
            "Requirement already satisfied: idna<4,>=2.5 in /usr/local/lib/python3.10/dist-packages (from requests->bert-score) (3.6)\n",
            "Requirement already satisfied: urllib3<3,>=1.21.1 in /usr/local/lib/python3.10/dist-packages (from requests->bert-score) (2.0.7)\n",
            "Requirement already satisfied: certifi>=2017.4.17 in /usr/local/lib/python3.10/dist-packages (from requests->bert-score) (2023.11.17)\n",
            "Requirement already satisfied: six>=1.5 in /usr/local/lib/python3.10/dist-packages (from python-dateutil>=2.8.1->pandas>=1.0.1->bert-score) (1.16.0)\n",
            "Requirement already satisfied: MarkupSafe>=2.0 in /usr/local/lib/python3.10/dist-packages (from jinja2->torch>=1.0.0->bert-score) (2.1.3)\n",
            "Requirement already satisfied: mpmath>=0.19 in /usr/local/lib/python3.10/dist-packages (from sympy->torch>=1.0.0->bert-score) (1.3.0)\n",
            "Requirement already satisfied: rouge_score in /usr/local/lib/python3.10/dist-packages (0.1.2)\n",
            "Requirement already satisfied: absl-py in /usr/local/lib/python3.10/dist-packages (from rouge_score) (1.4.0)\n",
            "Requirement already satisfied: nltk in /usr/local/lib/python3.10/dist-packages (from rouge_score) (3.8.1)\n",
            "Requirement already satisfied: numpy in /usr/local/lib/python3.10/dist-packages (from rouge_score) (1.23.5)\n",
            "Requirement already satisfied: six>=1.14.0 in /usr/local/lib/python3.10/dist-packages (from rouge_score) (1.16.0)\n",
            "Requirement already satisfied: click in /usr/local/lib/python3.10/dist-packages (from nltk->rouge_score) (8.1.7)\n",
            "Requirement already satisfied: joblib in /usr/local/lib/python3.10/dist-packages (from nltk->rouge_score) (1.3.2)\n",
            "Requirement already satisfied: regex>=2021.8.3 in /usr/local/lib/python3.10/dist-packages (from nltk->rouge_score) (2023.6.3)\n",
            "Requirement already satisfied: tqdm in /usr/local/lib/python3.10/dist-packages (from nltk->rouge_score) (4.66.1)\n",
            "Requirement already satisfied: sentencepiece in /usr/local/lib/python3.10/dist-packages (0.1.99)\n",
            "Requirement already satisfied: sacrebleu in /usr/local/lib/python3.10/dist-packages (2.4.0)\n",
            "Requirement already satisfied: portalocker in /usr/local/lib/python3.10/dist-packages (from sacrebleu) (2.8.2)\n",
            "Requirement already satisfied: regex in /usr/local/lib/python3.10/dist-packages (from sacrebleu) (2023.6.3)\n",
            "Requirement already satisfied: tabulate>=0.8.9 in /usr/local/lib/python3.10/dist-packages (from sacrebleu) (0.9.0)\n",
            "Requirement already satisfied: numpy>=1.17 in /usr/local/lib/python3.10/dist-packages (from sacrebleu) (1.23.5)\n",
            "Requirement already satisfied: colorama in /usr/local/lib/python3.10/dist-packages (from sacrebleu) (0.4.6)\n",
            "Requirement already satisfied: lxml in /usr/local/lib/python3.10/dist-packages (from sacrebleu) (4.9.3)\n"
          ]
        }
      ],
      "source": [
        "!pip install datasets\n",
        "!pip install bert-score\n",
        "!pip install load\n",
        "!pip install evaluate\n",
        "!pip install bert-score\n",
        "!pip install rouge_score\n",
        "!pip install sentencepiece\n",
        "!pip install sacrebleu"
      ]
    },
    {
      "cell_type": "code",
      "source": [
        "import numpy as np\n",
        "from datasets import load_dataset\n",
        "import pandas as pd\n",
        "import evaluate\n",
        "from evaluate import load"
      ],
      "metadata": {
        "id": "kmPCwPK4mSTr"
      },
      "execution_count": null,
      "outputs": []
    },
    {
      "cell_type": "code",
      "source": [
        "model_name = \"microsoft/deberta-xlarge-mnli\""
      ],
      "metadata": {
        "id": "4yZTYzFOmUoK"
      },
      "execution_count": null,
      "outputs": []
    },
    {
      "cell_type": "code",
      "source": [
        "#EmojiToSentence\n",
        "NoPP = pd.read_csv(\"/content/drive/MyDrive/FinalProjectIntroML/Emoji_LLama2_NoPPpredictionList_1201.csv\")\n",
        "NoPP_List = NoPP['Result'].values.tolist()\n",
        "PP = pd.read_csv(\"/content/drive/MyDrive/FinalProjectIntroML/Emoji_LLama2_PPpredictionList_1201.csv\")\n",
        "PP_List = PP['Result'].values.tolist()\n",
        "ReferencePD = pd.read_csv(\"/content/drive/MyDrive/FinalProjectIntroML/Emoji_ReferenceListFIX_1201.csv\")\n",
        "ReferenceList = ReferencePD['Result'].values.tolist()\n",
        "\n",
        "BaseLlama2NoPP = pd.read_csv(\"/content/drive/MyDrive/FinalProjectIntroML/Emoji_OnlyLLama2_NoPPpredictionList_1209.csv\")\n",
        "BaseLlama2NoPP_List = BaseLlama2NoPP['Result'].values.tolist()\n",
        "BaseLlama2PP = pd.read_csv(\"/content/drive/MyDrive/FinalProjectIntroML/Emoji_OnlyLLama2_PPpredictionList_1209.csv\")\n",
        "BaseLlama2PP_List = BaseLlama2PP['Result'].values.tolist()\n",
        "\n",
        "#EmojiToResponse (ETR)\n",
        "ETRNoPP = pd.read_csv(\"/content/drive/MyDrive/FinalProjectIntroML/EmojitoResponse_LLama2_NoPPpredictionList_1201.csv\")\n",
        "ETRNoPP_List = ETRNoPP['Result'].values.tolist()\n",
        "ETRPP = pd.read_csv(\"/content/drive/MyDrive/FinalProjectIntroML/EmojitoResponse_LLama2_PPpredictionList_1201.csv\")\n",
        "ETRPP_List = ETRPP['Result'].values.tolist()\n",
        "ETRReferencePD = pd.read_csv(\"/content/drive/MyDrive/FinalProjectIntroML/EmojitoResponse_ReferenceListFIX_1201.csv\")\n",
        "ETRReferenceList = ETRReferencePD['Result'].values.tolist()\n",
        "\n",
        "ETRBaseLlama2NoPP = pd.read_csv(\"/content/drive/MyDrive/FinalProjectIntroML/EmojitoResponse_OnlyLLama2_NoPPpredictionList_1209.csv\")\n",
        "ETRBaseLlama2NoPP_List = ETRBaseLlama2NoPP['Result'].values.tolist()\n",
        "ETRBaseLlama2PP = pd.read_csv(\"/content/drive/MyDrive/FinalProjectIntroML/EmojitoResponse_OnlyLLama2_PPpredictionList_1209.csv\")\n",
        "ETRBaseLlama2PP_List = ETRBaseLlama2PP['Result'].values.tolist()\n"
      ],
      "metadata": {
        "id": "C8uNziIrmidp"
      },
      "execution_count": null,
      "outputs": []
    },
    {
      "cell_type": "code",
      "source": [
        "from evaluate import load\n",
        "bertscore = load(\"bertscore\")\n",
        "rouge = evaluate.load('rouge')\n",
        "sacrebleu = evaluate.load('sacrebleu')\n",
        "reference = ReferenceList\n",
        "Prediction_NoPP = NoPP_List\n",
        "Prediction_PP = PP_List\n",
        "\n",
        "BaseLlama2Pred_NoPP = BaseLlama2NoPP_List\n",
        "BaseLlama2Pred_PP = BaseLlama2PP_List\n",
        "\n",
        "#(ETR)\n",
        "ETRreference = ETRReferenceList\n",
        "ETRPrediction_NoPP = ETRNoPP_List\n",
        "ETRPrediction_PP = ETRPP_List\n",
        "\n",
        "ETRBaseLlama2Pred_NoPP = ETRBaseLlama2NoPP_List\n",
        "ETRBaseLlama2Pred_PP = ETRBaseLlama2PP_List"
      ],
      "metadata": {
        "id": "VAboiKrapH7a"
      },
      "execution_count": null,
      "outputs": []
    },
    {
      "cell_type": "code",
      "source": [
        "ETRreference"
      ],
      "metadata": {
        "id": "Vo72Xc8g78kz"
      },
      "execution_count": null,
      "outputs": []
    },
    {
      "cell_type": "code",
      "source": [
        "ReferenceFix = []\n",
        "# for i in range(len(reference)):\n",
        "for i in range(len(ETRreference)):\n",
        "  # text = reference[i]\n",
        "  text = ETRreference[i]\n",
        "  textnow = text[9:]\n",
        "  ReferenceFix.append(textnow)\n",
        "\n",
        "# filename = \"Emoji_ReferenceListFIX_1201.csv\"\n",
        "filename = \"EmojitoResponse_ReferenceListFIX_1201.csv\"\n",
        "DictPrediction = {'Result': ReferenceFix}\n",
        "DFPrediction = pd.DataFrame(data = DictPrediction)\n",
        "DFPrediction.to_csv(filename, index=False)"
      ],
      "metadata": {
        "id": "A7OR5scdx03l"
      },
      "execution_count": null,
      "outputs": []
    },
    {
      "cell_type": "code",
      "source": [
        "#==================================================================================================================================================================================================================="
      ],
      "metadata": {
        "id": "4i_WEuRhi3Hu"
      },
      "execution_count": null,
      "outputs": []
    },
    {
      "cell_type": "code",
      "source": [
        "BertResult_NoPP = bertscore.compute(predictions=Prediction_NoPP, references=reference, model_type=model_name,\n",
        "    rescale_with_baseline=True, lang='en')\n",
        "print(\"BertResult_NoPP F1: \", end='')\n",
        "print(np.average(BertResult_NoPP['f1']))\n",
        "print(\"BertResult_NoPP Precision: \", end='')\n",
        "print(np.average(BertResult_NoPP['precision']))\n",
        "print(\"BertResult_NoPP Recall: \", end='')\n",
        "print(np.average(BertResult_NoPP['recall']))\n",
        "print(\"BertResult_NoPP Hashcode: \", end='')\n",
        "print(BertResult_NoPP['hashcode'])"
      ],
      "metadata": {
        "id": "jqkNvecLpihi",
        "colab": {
          "base_uri": "https://localhost:8080/",
          "height": 246,
          "referenced_widgets": [
            "a688435ab71f46ba87c29273d1a8c4aa",
            "1b34d685fd5541ddb452172133a2196e",
            "2ce0b99aa2de441ebaab9a828181b907",
            "b2dc0fb2868544c6b0dc400a968f57d5",
            "76d95653b9de48bc9fd7ca4460992a9a",
            "05d12e8dc2654023a063dcd6f451ddb0",
            "1da8cd5599ad4044a6cb28f75985057d",
            "41e7d0f3c0404e0091d03109627815e8",
            "03ce8214e0ab48708e248e3a4c28fad8",
            "fd5139bf7f1a450eab16995cf8cc8194",
            "5d7a7b6a773842d38cfa24d71bccee93",
            "97bc74ad85d34321be084bc97407c399",
            "0e3c48ec6f6c483abb65b8f0f20356e1",
            "09b1bd68d80143679b82dfeefda23040",
            "0e9b537360f04737b78c09d261bb33bf",
            "e04cd57af9864dba8700269709bee166",
            "8999baac9e1b4acc86eec1f030f7cd12",
            "bd4754c710204a468d50163b1ae6fd60",
            "2745cb52eee146faaa99bb829bc7ef1f",
            "fcc14e99aa5d47acbcd1814aeddc57b8",
            "1e9c4c8a18494f6baa80cd93631f2cd7",
            "b8c224a064ad4417ba9d20aee41e5ffe",
            "c621635508b04d7d87ac8a2744b525dc",
            "a423b8ac2c834a98aa41b96fc231db91",
            "8d5d1e4c2bab4e1ab20ca0fd4f0fe90c",
            "13154d5cd09748e9bcdaf6144c358e80",
            "34be868f3c724c52aa24a56945e1d3b9",
            "d2445d2278af49cfb7b5c10ee4ec869f",
            "6259e7ccb6de4464a1d976e4c6f23f2c",
            "60b4863aa7fd457ea9996971c499d5c3",
            "70d0f0f06a2a4e0c86a40298a38e6a8f",
            "7409e6b981ff4614b1db5df730aa6462",
            "99b9498df53f438084a59cb279d3e99b",
            "47c9026b2e344c36a1992396ba476e35",
            "4e19718a77f64ad0870ed95e706d5617",
            "7ce64076f1b34712bb9d3b70da704b71",
            "eb3e22602eca469a8abed11618503632",
            "899dd719abf94a34b0af3cc141b0edf9",
            "57682d2e979d4f638dd44f455626aaac",
            "774318f99f564e5c9981b969f3583303",
            "a4e029be2f614db3b4f99eb5e353dd37",
            "5699494e7d91465ead6619661b5dee4a",
            "77ae9ef448594e2593bf694967fe92a6",
            "b5702d64a7dd442c9bd917159292dc27",
            "fdc254e5b69b4a538fbbf4ca1ff4c3c1",
            "d1a94f200e644d7a8b8dc18bef9b42bc",
            "c968dcf90bc14923a58ce282900a9973",
            "69e0e84582bd4f92957085c1a9e06ded",
            "0575b89b43bb421e911e8a70e7018a60",
            "515af51d0403421f8a71f35463a3a2f5",
            "6642f2cda9f54497aa1ecc2f215c0b17",
            "fe168bbde60f4d82a03e2c43f0bea9a4",
            "6f2255451f814924a825c220f3cc19ce",
            "cd5aeb37ae044e9caa2694941447a437",
            "4c778be0f22a476e9563a483986be654"
          ]
        },
        "outputId": "bd97301f-0e5f-4291-a5fb-15e9f68940ea"
      },
      "execution_count": null,
      "outputs": [
        {
          "output_type": "display_data",
          "data": {
            "text/plain": [
              "tokenizer_config.json:   0%|          | 0.00/52.0 [00:00<?, ?B/s]"
            ],
            "application/vnd.jupyter.widget-view+json": {
              "version_major": 2,
              "version_minor": 0,
              "model_id": "a688435ab71f46ba87c29273d1a8c4aa"
            }
          },
          "metadata": {}
        },
        {
          "output_type": "display_data",
          "data": {
            "text/plain": [
              "config.json:   0%|          | 0.00/792 [00:00<?, ?B/s]"
            ],
            "application/vnd.jupyter.widget-view+json": {
              "version_major": 2,
              "version_minor": 0,
              "model_id": "97bc74ad85d34321be084bc97407c399"
            }
          },
          "metadata": {}
        },
        {
          "output_type": "display_data",
          "data": {
            "text/plain": [
              "vocab.json:   0%|          | 0.00/899k [00:00<?, ?B/s]"
            ],
            "application/vnd.jupyter.widget-view+json": {
              "version_major": 2,
              "version_minor": 0,
              "model_id": "c621635508b04d7d87ac8a2744b525dc"
            }
          },
          "metadata": {}
        },
        {
          "output_type": "display_data",
          "data": {
            "text/plain": [
              "merges.txt:   0%|          | 0.00/456k [00:00<?, ?B/s]"
            ],
            "application/vnd.jupyter.widget-view+json": {
              "version_major": 2,
              "version_minor": 0,
              "model_id": "47c9026b2e344c36a1992396ba476e35"
            }
          },
          "metadata": {}
        },
        {
          "output_type": "display_data",
          "data": {
            "text/plain": [
              "pytorch_model.bin:   0%|          | 0.00/3.04G [00:00<?, ?B/s]"
            ],
            "application/vnd.jupyter.widget-view+json": {
              "version_major": 2,
              "version_minor": 0,
              "model_id": "fdc254e5b69b4a538fbbf4ca1ff4c3c1"
            }
          },
          "metadata": {}
        },
        {
          "output_type": "stream",
          "name": "stdout",
          "text": [
            "BertResult_NoPP F1: -0.07742102462860231\n",
            "BertResult_NoPP Precision: -0.24643729594499458\n",
            "BertResult_NoPP Recall: 0.17353534111643107\n",
            "BertResult_NoPP Hashcode: microsoft/deberta-xlarge-mnli_L40_no-idf_version=0.3.12(hug_trans=4.35.2)-rescaled\n"
          ]
        }
      ]
    },
    {
      "cell_type": "code",
      "source": [
        "BertResult_PP = bertscore.compute(predictions=Prediction_PP, references=reference, model_type=model_name,\n",
        "    rescale_with_baseline=True, lang='en')\n",
        "print(\"BertResult_PP F1: \", end='')\n",
        "print(np.average(BertResult_PP['f1']))\n",
        "print(\"BertResult_PP Precision: \", end='')\n",
        "print(np.average(BertResult_PP['precision']))\n",
        "print(\"BertResult_PP Recall: \", end='')\n",
        "print(np.average(BertResult_PP['recall']))\n",
        "print(\"BertResult_PP Hashcode: \", end='')\n",
        "print(BertResult_PP['hashcode'])"
      ],
      "metadata": {
        "id": "czNmdOZMpvNK",
        "colab": {
          "base_uri": "https://localhost:8080/"
        },
        "outputId": "423f1a3f-b27b-4320-de69-b71fb80ee1f4"
      },
      "execution_count": null,
      "outputs": [
        {
          "output_type": "stream",
          "name": "stdout",
          "text": [
            "BertResult_PP F1: 0.3465175543009765\n",
            "BertResult_PP Precision: 0.3747763304611829\n",
            "BertResult_PP Recall: 0.321131489620962\n",
            "BertResult_PP Hashcode: microsoft/deberta-xlarge-mnli_L40_no-idf_version=0.3.12(hug_trans=4.35.2)-rescaled\n"
          ]
        }
      ]
    },
    {
      "cell_type": "code",
      "source": [
        "BertResult_BaseLlama2_NoPP = bertscore.compute(predictions=BaseLlama2Pred_NoPP, references=reference, model_type=model_name,\n",
        "    rescale_with_baseline=True, lang='en')\n",
        "print(\"BertResult_BaseLlama2_NoPP F1: \", end='')\n",
        "print(np.average(BertResult_BaseLlama2_NoPP['f1']))\n",
        "print(\"BertResult_BaseLlama2_NoPP Precision: \", end='')\n",
        "print(np.average(BertResult_BaseLlama2_NoPP['precision']))\n",
        "print(\"BertResult_BaseLlama2_NoPP Recall: \", end='')\n",
        "print(np.average(BertResult_BaseLlama2_NoPP['recall']))\n",
        "print(\"BertResult_BaseLlama2_NoPP Hashcode: \", end='')\n",
        "print(BertResult_BaseLlama2_NoPP['hashcode'])"
      ],
      "metadata": {
        "colab": {
          "base_uri": "https://localhost:8080/"
        },
        "id": "CoS2eqV6ibQx",
        "outputId": "482d7c1f-1d98-43fc-800c-b8dbd36e446a"
      },
      "execution_count": null,
      "outputs": [
        {
          "output_type": "stream",
          "name": "stdout",
          "text": [
            "BertResult_BaseLlama2_NoPP F1: -0.0913758299856146\n",
            "BertResult_BaseLlama2_NoPP Precision: -0.2495128262978722\n",
            "BertResult_BaseLlama2_NoPP Recall: 0.13621893961818551\n",
            "BertResult_BaseLlama2_NoPP Hashcode: microsoft/deberta-xlarge-mnli_L40_no-idf_version=0.3.12(hug_trans=4.35.2)-rescaled\n"
          ]
        }
      ]
    },
    {
      "cell_type": "code",
      "source": [
        "BertResult_BaseLlama2_PP = bertscore.compute(predictions=BaseLlama2Pred_PP, references=reference, model_type=model_name,\n",
        "    rescale_with_baseline=True, lang='en')\n",
        "print(\"BertResult_BaseLlama2_PP F1: \", end='')\n",
        "print(np.average(BertResult_BaseLlama2_PP['f1']))\n",
        "print(\"BertResult_BaseLlama2_PP Precision: \", end='')\n",
        "print(np.average(BertResult_BaseLlama2_PP['precision']))\n",
        "print(\"BertResult_BaseLlama2_PP Recall: \", end='')\n",
        "print(np.average(BertResult_BaseLlama2_PP['recall']))\n",
        "print(\"BertResult_BaseLlama2_PP Hashcode: \", end='')\n",
        "print(BertResult_BaseLlama2_PP['hashcode'])"
      ],
      "metadata": {
        "colab": {
          "base_uri": "https://localhost:8080/"
        },
        "id": "Y_9G0-laizdo",
        "outputId": "712d9c65-a330-43ff-9648-0c8b95149c81"
      },
      "execution_count": null,
      "outputs": [
        {
          "output_type": "stream",
          "name": "stdout",
          "text": [
            "BertResult_BaseLlama2_PP F1: 0.03019926940296285\n",
            "BertResult_BaseLlama2_PP Precision: 0.020760728049964653\n",
            "BertResult_BaseLlama2_PP Recall: 0.06926841666467312\n",
            "BertResult_BaseLlama2_PP Hashcode: microsoft/deberta-xlarge-mnli_L40_no-idf_version=0.3.12(hug_trans=4.35.2)-rescaled\n"
          ]
        }
      ]
    },
    {
      "cell_type": "code",
      "source": [
        "#==================================================================================================================================================================================================================="
      ],
      "metadata": {
        "id": "AUVNyEnoi0AQ"
      },
      "execution_count": null,
      "outputs": []
    },
    {
      "cell_type": "code",
      "source": [
        "RougeRes_NoPP = rouge.compute(predictions = Prediction_NoPP, references = reference)\n",
        "print(RougeRes_NoPP)"
      ],
      "metadata": {
        "id": "z-6nWkPxp61U",
        "colab": {
          "base_uri": "https://localhost:8080/"
        },
        "outputId": "65f0e7fd-88d0-456d-b79e-f830e1ee3862"
      },
      "execution_count": null,
      "outputs": [
        {
          "output_type": "stream",
          "name": "stdout",
          "text": [
            "{'rouge1': 0.19412008873756398, 'rouge2': 0.06648113223113283, 'rougeL': 0.1565059488475255, 'rougeLsum': 0.1568377015500902}\n"
          ]
        }
      ]
    },
    {
      "cell_type": "code",
      "source": [
        "RougeRes_PP = rouge.compute(predictions = Prediction_PP, references = reference)\n",
        "print(RougeRes_PP)"
      ],
      "metadata": {
        "id": "oz7SQAqSqOdi",
        "colab": {
          "base_uri": "https://localhost:8080/"
        },
        "outputId": "79b4a213-b2e6-4ee8-caec-a091d46e40d3"
      },
      "execution_count": null,
      "outputs": [
        {
          "output_type": "stream",
          "name": "stdout",
          "text": [
            "{'rouge1': 0.3327420803930339, 'rouge2': 0.10436062849788531, 'rougeL': 0.275250027996919, 'rougeLsum': 0.27565175807577963}\n"
          ]
        }
      ]
    },
    {
      "cell_type": "code",
      "source": [
        "RougeRes_BaseLlama2_NoPP = rouge.compute(predictions = BaseLlama2Pred_NoPP, references = reference)\n",
        "print(RougeRes_BaseLlama2_NoPP)"
      ],
      "metadata": {
        "colab": {
          "base_uri": "https://localhost:8080/"
        },
        "id": "uTrdjB66i9H4",
        "outputId": "156a564b-5d13-4115-bd1b-35f077e00bd6"
      },
      "execution_count": null,
      "outputs": [
        {
          "output_type": "stream",
          "name": "stdout",
          "text": [
            "{'rouge1': 0.1845714977015278, 'rouge2': 0.050129909185062396, 'rougeL': 0.14661548402468266, 'rougeLsum': 0.1471641785431501}\n"
          ]
        }
      ]
    },
    {
      "cell_type": "code",
      "source": [
        "RougeRes_BaseLlama2_PP = rouge.compute(predictions = BaseLlama2Pred_PP, references = reference)\n",
        "print(RougeRes_BaseLlama2_PP)"
      ],
      "metadata": {
        "colab": {
          "base_uri": "https://localhost:8080/"
        },
        "id": "zvYTQJgzi8nS",
        "outputId": "4105d36b-5e1c-4c61-d4b9-3c499cca60bc"
      },
      "execution_count": null,
      "outputs": [
        {
          "output_type": "stream",
          "name": "stdout",
          "text": [
            "{'rouge1': 0.16292660939006126, 'rouge2': 0.036604485646126755, 'rougeL': 0.13443092316497884, 'rougeLsum': 0.13701498729125566}\n"
          ]
        }
      ]
    },
    {
      "cell_type": "code",
      "source": [
        "#==================================================================================================================================================================================================================="
      ],
      "metadata": {
        "id": "0u-bUi9KjFxT"
      },
      "execution_count": null,
      "outputs": []
    },
    {
      "cell_type": "code",
      "source": [
        "SacrebleuRes_NoPP = sacrebleu.compute(predictions = Prediction_NoPP, references = reference)\n",
        "print(SacrebleuRes_NoPP)"
      ],
      "metadata": {
        "colab": {
          "base_uri": "https://localhost:8080/"
        },
        "id": "2xd3JH2Y2r21",
        "outputId": "96a817cd-3e83-47b6-bca7-350c86139c39"
      },
      "execution_count": null,
      "outputs": [
        {
          "output_type": "stream",
          "name": "stdout",
          "text": [
            "{'score': 1.4134716823374467, 'counts': [1260, 289, 93, 38], 'totals': [13591, 13464, 13337, 13210], 'precisions': [9.270840997719079, 2.1464646464646466, 0.6973082402339357, 0.28766086298258897], 'bp': 1.0, 'sys_len': 13591, 'ref_len': 2142}\n"
          ]
        }
      ]
    },
    {
      "cell_type": "code",
      "source": [
        "SacrebleuRes_PP = sacrebleu.compute(predictions = Prediction_PP, references = reference)\n",
        "print(SacrebleuRes_PP)"
      ],
      "metadata": {
        "colab": {
          "base_uri": "https://localhost:8080/"
        },
        "id": "EZwic3WU2sF-",
        "outputId": "fda71ecf-65b4-443b-efd3-86e058f254da"
      },
      "execution_count": null,
      "outputs": [
        {
          "output_type": "stream",
          "name": "stdout",
          "text": [
            "{'score': 6.306133657570429, 'counts': [699, 177, 64, 28], 'totals': [1935, 1808, 1681, 1554], 'precisions': [36.12403100775194, 9.789823008849558, 3.8072575847709698, 1.8018018018018018], 'bp': 0.898546569179167, 'sys_len': 1935, 'ref_len': 2142}\n"
          ]
        }
      ]
    },
    {
      "cell_type": "code",
      "source": [
        "SacrebleuRes_BaseLlama2_NoPP = sacrebleu.compute(predictions = BaseLlama2Pred_NoPP, references = reference)\n",
        "print(SacrebleuRes_BaseLlama2_NoPP)"
      ],
      "metadata": {
        "colab": {
          "base_uri": "https://localhost:8080/"
        },
        "id": "0SCYEgQfjHJi",
        "outputId": "b6c353c3-e151-49a6-fa9a-c9794966570b"
      },
      "execution_count": null,
      "outputs": [
        {
          "output_type": "stream",
          "name": "stdout",
          "text": [
            "{'score': 0.9774363641845759, 'counts': [1101, 207, 57, 15], 'totals': [12279, 12152, 12025, 11898], 'precisions': [8.966528218910335, 1.7034233048057932, 0.47401247401247404, 0.1260716086737267], 'bp': 1.0, 'sys_len': 12279, 'ref_len': 2142}\n"
          ]
        }
      ]
    },
    {
      "cell_type": "code",
      "source": [
        "SacrebleuRes_BaseLlama2_PP = sacrebleu.compute(predictions = BaseLlama2Pred_PP, references = reference)\n",
        "print(SacrebleuRes_BaseLlama2_PP)"
      ],
      "metadata": {
        "colab": {
          "base_uri": "https://localhost:8080/"
        },
        "id": "ILqNrPHTjHeh",
        "outputId": "02db7035-e3db-42c5-b1a8-b7183390362f"
      },
      "execution_count": null,
      "outputs": [
        {
          "output_type": "stream",
          "name": "stdout",
          "text": [
            "{'score': 1.8064209093223178, 'counts': [496, 76, 22, 6], 'totals': [2806, 2679, 2555, 2433], 'precisions': [17.67640769779045, 2.8368794326241136, 0.8610567514677103, 0.2466091245376079], 'bp': 1.0, 'sys_len': 2806, 'ref_len': 2142}\n"
          ]
        }
      ]
    },
    {
      "cell_type": "code",
      "source": [
        "#============================================================================================================================\n",
        "#ETR\n",
        "#(ETR)\n",
        "# ETRreference = ETRReferenceList\n",
        "# ETRPrediction_NoPP = ETRNoPP_List\n",
        "# ETRPrediction_PP = ETRPP_List\n",
        "\n",
        "# ETRBaseLlama2Pred_NoPP = ETRBaseLlama2NoPP_List\n",
        "# ETRBaseLlama2Pred_PP = ETRBaseLlama2PP_List"
      ],
      "metadata": {
        "id": "ozZZFd2v4L0B"
      },
      "execution_count": null,
      "outputs": []
    },
    {
      "cell_type": "code",
      "source": [
        "BertResult_ETRNoPP = bertscore.compute(predictions=ETRPrediction_NoPP, references=ETRreference, model_type=model_name,\n",
        "    rescale_with_baseline=True, lang='en')\n",
        "print(\"BertResult_ETRNoPP F1: \", end='')\n",
        "print(np.average(BertResult_ETRNoPP['f1']))\n",
        "print(\"BertResult_ETRNoPP Precision: \", end='')\n",
        "print(np.average(BertResult_ETRNoPP['precision']))\n",
        "print(\"BertResult_ETRNoPP Recall: \", end='')\n",
        "print(np.average(BertResult_ETRNoPP['recall']))\n",
        "print(\"BertResult_ETRNoPP Hashcode: \", end='')\n",
        "print(BertResult_ETRNoPP['hashcode'])"
      ],
      "metadata": {
        "colab": {
          "base_uri": "https://localhost:8080/"
        },
        "id": "RmHstBKY4Nbb",
        "outputId": "d4d9f56b-59be-4b1a-dee9-8dc956539435"
      },
      "execution_count": null,
      "outputs": [
        {
          "output_type": "stream",
          "name": "stdout",
          "text": [
            "BertResult_ETRNoPP F1: -0.041633395137401615\n",
            "BertResult_ETRNoPP Precision: -0.19486568588763475\n",
            "BertResult_ETRNoPP Recall: 0.17301042150796914\n",
            "BertResult_ETRNoPP Hashcode: microsoft/deberta-xlarge-mnli_L40_no-idf_version=0.3.12(hug_trans=4.35.2)-rescaled\n"
          ]
        }
      ]
    },
    {
      "cell_type": "code",
      "source": [
        "BertResult_ETRPP = bertscore.compute(predictions=ETRPrediction_PP, references=ETRreference, model_type=model_name,\n",
        "    rescale_with_baseline=True, lang='en')\n",
        "print(\"BertResult_ETRPP F1: \", end='')\n",
        "print(np.average(BertResult_ETRPP['f1']))\n",
        "print(\"BertResult_ETRPP Precision: \", end='')\n",
        "print(np.average(BertResult_ETRPP['precision']))\n",
        "print(\"BertResult_ETRPP Recall: \", end='')\n",
        "print(np.average(BertResult_ETRPP['recall']))\n",
        "print(\"BertResult_ETRPP Hashcode: \", end='')\n",
        "print(BertResult_ETRPP['hashcode'])"
      ],
      "metadata": {
        "colab": {
          "base_uri": "https://localhost:8080/"
        },
        "id": "HeiR1zT24eRg",
        "outputId": "3bdcf476-0f2a-4175-88d4-c61e7e658838"
      },
      "execution_count": null,
      "outputs": [
        {
          "output_type": "stream",
          "name": "stdout",
          "text": [
            "BertResult_ETRPP F1: 0.14829642492596332\n",
            "BertResult_ETRPP Precision: 0.09390452584672702\n",
            "BertResult_ETRPP Recall: 0.21148710416221037\n",
            "BertResult_ETRPP Hashcode: microsoft/deberta-xlarge-mnli_L40_no-idf_version=0.3.12(hug_trans=4.35.2)-rescaled\n"
          ]
        }
      ]
    },
    {
      "cell_type": "code",
      "source": [
        "BertResult_ETRBaseLlama2_NoPP = bertscore.compute(predictions=ETRBaseLlama2Pred_NoPP, references=ETRreference, model_type=model_name,\n",
        "    rescale_with_baseline=True, lang='en')\n",
        "print(\"BertResult_ETRBaseLlama2_NoPP F1: \", end='')\n",
        "print(np.average(BertResult_ETRBaseLlama2_NoPP['f1']))\n",
        "print(\"BertResult_ETRBaseLlama2_NoPP Precision: \", end='')\n",
        "print(np.average(BertResult_ETRBaseLlama2_NoPP['precision']))\n",
        "print(\"BertResult_ETRBaseLlama2_NoPP Recall: \", end='')\n",
        "print(np.average(BertResult_ETRBaseLlama2_NoPP['recall']))\n",
        "print(\"BertResult_ETRBaseLlama2_NoPP Hashcode: \", end='')\n",
        "print(BertResult_ETRBaseLlama2_NoPP['hashcode'])"
      ],
      "metadata": {
        "colab": {
          "base_uri": "https://localhost:8080/"
        },
        "id": "vpA1f4fN4p-4",
        "outputId": "e8fb100c-4202-4b1e-f558-908c032c3d75"
      },
      "execution_count": null,
      "outputs": [
        {
          "output_type": "stream",
          "name": "stdout",
          "text": [
            "BertResult_ETRBaseLlama2_NoPP F1: -0.027045694205387518\n",
            "BertResult_ETRBaseLlama2_NoPP Precision: -0.15590471003159154\n",
            "BertResult_ETRBaseLlama2_NoPP Recall: 0.1404017151628689\n",
            "BertResult_ETRBaseLlama2_NoPP Hashcode: microsoft/deberta-xlarge-mnli_L40_no-idf_version=0.3.12(hug_trans=4.35.2)-rescaled\n"
          ]
        }
      ]
    },
    {
      "cell_type": "code",
      "source": [
        "BertResult_ETRBaseLlama2_PP = bertscore.compute(predictions=ETRBaseLlama2Pred_PP, references=ETRreference, model_type=model_name,\n",
        "    rescale_with_baseline=True, lang='en')\n",
        "print(\"BertResult_ETRBaseLlama2_PP F1: \", end='')\n",
        "print(np.average(BertResult_ETRBaseLlama2_PP['f1']))\n",
        "print(\"BertResult_ETRBaseLlama2_PP Precision: \", end='')\n",
        "print(np.average(BertResult_ETRBaseLlama2_PP['precision']))\n",
        "print(\"BertResult_ETRBaseLlama2_PP Recall: \", end='')\n",
        "print(np.average(BertResult_ETRBaseLlama2_PP['recall']))\n",
        "print(\"BertResult_ETRBaseLlama2_PP Hashcode: \", end='')\n",
        "print(BertResult_ETRBaseLlama2_PP['hashcode'])"
      ],
      "metadata": {
        "colab": {
          "base_uri": "https://localhost:8080/"
        },
        "id": "qsxcOoFZ44yT",
        "outputId": "f1912cf9-c9fc-46ec-afd0-1bf8d34be233"
      },
      "execution_count": null,
      "outputs": [
        {
          "output_type": "stream",
          "name": "stdout",
          "text": [
            "BertResult_ETRBaseLlama2_PP F1: -0.04571524916199695\n",
            "BertResult_ETRBaseLlama2_PP Precision: 0.000396735200632886\n",
            "BertResult_ETRBaseLlama2_PP Recall: -0.09406988321031194\n",
            "BertResult_ETRBaseLlama2_PP Hashcode: microsoft/deberta-xlarge-mnli_L40_no-idf_version=0.3.12(hug_trans=4.35.2)-rescaled\n"
          ]
        }
      ]
    },
    {
      "cell_type": "code",
      "source": [
        "#(ETR)\n",
        "# ETRreference = ETRReferenceList\n",
        "# ETRPrediction_NoPP = ETRNoPP_List\n",
        "# ETRPrediction_PP = ETRPP_List\n",
        "\n",
        "# ETRBaseLlama2Pred_NoPP = ETRBaseLlama2NoPP_List\n",
        "# ETRBaseLlama2Pred_PP = ETRBaseLlama2PP_List"
      ],
      "metadata": {
        "id": "LDEMqWTF9cMU"
      },
      "execution_count": null,
      "outputs": []
    },
    {
      "cell_type": "code",
      "source": [
        "ETRRougeRes_NoPP = rouge.compute(predictions = ETRPrediction_NoPP, references = ETRreference)\n",
        "print(ETRRougeRes_NoPP)\n",
        "ETRRougeRes_PP = rouge.compute(predictions = ETRPrediction_PP, references = ETRreference)\n",
        "print(ETRRougeRes_PP)\n",
        "ETRRougeRes_BaseLlama2_NoPP = rouge.compute(predictions = ETRBaseLlama2Pred_NoPP, references = ETRreference)\n",
        "print(ETRRougeRes_BaseLlama2_NoPP)\n",
        "ETRRougeRes_BaseLlama2_PP = rouge.compute(predictions = ETRBaseLlama2Pred_PP, references = ETRreference)\n",
        "print(ETRRougeRes_BaseLlama2_PP)"
      ],
      "metadata": {
        "colab": {
          "base_uri": "https://localhost:8080/"
        },
        "id": "4c6xQ0Da9C_p",
        "outputId": "08c04d47-ff67-49f0-ee60-473cf8103d89"
      },
      "execution_count": null,
      "outputs": [
        {
          "output_type": "stream",
          "name": "stdout",
          "text": [
            "{'rouge1': 0.20367733850535108, 'rouge2': 0.056828628413839025, 'rougeL': 0.15018749047038438, 'rougeLsum': 0.14975581440693875}\n",
            "{'rouge1': 0.2423972507698274, 'rouge2': 0.0668973732664082, 'rougeL': 0.1769655325457709, 'rougeLsum': 0.17763290904882306}\n",
            "{'rouge1': 0.20893428907684813, 'rouge2': 0.05026019868115464, 'rougeL': 0.15711105884744037, 'rougeLsum': 0.1568282520460963}\n",
            "{'rouge1': 0.05681843041337546, 'rouge2': 0.0, 'rougeL': 0.053409506167385594, 'rougeLsum': 0.05348659415395188}\n"
          ]
        }
      ]
    },
    {
      "cell_type": "code",
      "source": [
        "ETRSacrebleuRes_NoPP = sacrebleu.compute(predictions = ETRPrediction_NoPP, references = ETRreference)\n",
        "print(ETRSacrebleuRes_NoPP)\n",
        "ETRSacrebleuRes_PP = sacrebleu.compute(predictions = ETRPrediction_PP, references = ETRreference)\n",
        "print(ETRSacrebleuRes_PP)\n",
        "ETRSacrebleuRes_BaseLlama2_NoPP = sacrebleu.compute(predictions = ETRBaseLlama2Pred_NoPP, references = ETRreference)\n",
        "print(ETRSacrebleuRes_BaseLlama2_NoPP)\n",
        "ETRSacrebleuRes_BaseLlama2_PP = sacrebleu.compute(predictions = ETRBaseLlama2Pred_PP, references = ETRreference)\n",
        "print(ETRSacrebleuRes_BaseLlama2_PP)"
      ],
      "metadata": {
        "colab": {
          "base_uri": "https://localhost:8080/"
        },
        "id": "kejz8lci9mAx",
        "outputId": "646ffda9-c20d-4550-9f9f-47f4d890546f"
      },
      "execution_count": null,
      "outputs": [
        {
          "output_type": "stream",
          "name": "stdout",
          "text": [
            "{'score': 1.5526699655166667, 'counts': [430, 86, 33, 16], 'totals': [4343, 4302, 4261, 4220], 'precisions': [9.900990099009901, 1.99907019990702, 0.7744660877728233, 0.3791469194312796], 'bp': 1.0, 'sys_len': 4343, 'ref_len': 872}\n",
            "{'score': 2.6901113931872906, 'counts': [250, 53, 15, 7], 'totals': [1339, 1298, 1257, 1216], 'precisions': [18.670649738610905, 4.083204930662558, 1.1933174224343674, 0.5756578947368421], 'bp': 1.0, 'sys_len': 1339, 'ref_len': 872}\n",
            "{'score': 0.9705340352306172, 'counts': [346, 42, 13, 5], 'totals': [3274, 3233, 3192, 3151], 'precisions': [10.568112400733048, 1.2991030003093103, 0.40726817042606517, 0.1586797841954935], 'bp': 1.0, 'sys_len': 3274, 'ref_len': 872}\n",
            "{'score': 0.09094526753464686, 'counts': [41, 0, 0, 0], 'totals': [451, 410, 369, 328], 'precisions': [9.090909090909092, 0.12195121951219512, 0.06775067750677506, 0.038109756097560975], 'bp': 0.3931825964550068, 'sys_len': 451, 'ref_len': 872}\n"
          ]
        }
      ]
    }
  ]
}
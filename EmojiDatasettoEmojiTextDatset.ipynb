{
  "nbformat": 4,
  "nbformat_minor": 0,
  "metadata": {
    "colab": {
      "provenance": []
    },
    "kernelspec": {
      "name": "python3",
      "display_name": "Python 3"
    },
    "language_info": {
      "name": "python"
    }
  },
  "cells": [
    {
      "cell_type": "code",
      "execution_count": null,
      "metadata": {
        "colab": {
          "base_uri": "https://localhost:8080/"
        },
        "id": "M8iVAR7EM3mq",
        "outputId": "f993333f-c7b1-4dcd-8c9f-e8662856dda7"
      },
      "outputs": [
        {
          "output_type": "stream",
          "name": "stdout",
          "text": [
            "Mounted at /content/drive\n"
          ]
        }
      ],
      "source": [
        "from google.colab import drive\n",
        "drive.mount('/content/drive')"
      ]
    },
    {
      "cell_type": "code",
      "source": [
        "# Using Emoji 15.1\n",
        "!pip install emoji\n",
        "import emoji"
      ],
      "metadata": {
        "colab": {
          "base_uri": "https://localhost:8080/"
        },
        "id": "njq4xH21NaG7",
        "outputId": "52b3c28b-d43a-41f2-9b8a-602c9b91f478"
      },
      "execution_count": null,
      "outputs": [
        {
          "output_type": "stream",
          "name": "stdout",
          "text": [
            "Collecting emoji\n",
            "  Downloading emoji-2.9.0-py2.py3-none-any.whl (397 kB)\n",
            "\u001b[?25l     \u001b[90m━━━━━━━━━━━━━━━━━━━━━━━━━━━━━━━━━━━━━━━━\u001b[0m \u001b[32m0.0/397.5 kB\u001b[0m \u001b[31m?\u001b[0m eta \u001b[36m-:--:--\u001b[0m\r\u001b[2K     \u001b[91m━━━━━━━━━━━━━━━━\u001b[0m\u001b[90m╺\u001b[0m\u001b[90m━━━━━━━━━━━━━━━━━━━━━━━\u001b[0m \u001b[32m163.8/397.5 kB\u001b[0m \u001b[31m4.6 MB/s\u001b[0m eta \u001b[36m0:00:01\u001b[0m\r\u001b[2K     \u001b[90m━━━━━━━━━━━━━━━━━━━━━━━━━━━━━━━━━━━━━━━━\u001b[0m \u001b[32m397.5/397.5 kB\u001b[0m \u001b[31m7.3 MB/s\u001b[0m eta \u001b[36m0:00:00\u001b[0m\n",
            "\u001b[?25hInstalling collected packages: emoji\n",
            "Successfully installed emoji-2.9.0\n"
          ]
        }
      ]
    },
    {
      "cell_type": "code",
      "source": [
        "import pandas as pd\n",
        "import csv\n",
        "import numpy as np\n",
        "import math"
      ],
      "metadata": {
        "id": "-lQfcNsVNOd6"
      },
      "execution_count": null,
      "outputs": []
    },
    {
      "cell_type": "code",
      "source": [
        "PD_Emoji_Test = pd.read_csv(\"//content/drive/MyDrive/FinalProjectIntroML/test.csv\")\n",
        "PD_Emoji_Train = pd.read_csv(\"//content/drive/MyDrive/FinalProjectIntroML/training.csv\")\n",
        "PD_Emoji_Val = pd.read_csv(\"//content/drive/MyDrive/FinalProjectIntroML/validation.csv\")"
      ],
      "metadata": {
        "id": "rM3Di3yEM-tU"
      },
      "execution_count": null,
      "outputs": []
    },
    {
      "cell_type": "code",
      "source": [
        "def GetEmojisFromDatasetPrompting(TarSent):\n",
        "  NonPrompt= TarSent[47:]\n",
        "  OnlyEmoji = NonPrompt.split(\". Result: \")\n",
        "  OnlyEmoji1 = OnlyEmoji[0]\n",
        "  EmojisSplit = OnlyEmoji1.split(', ')\n",
        "  # print(EmojisSplit)\n",
        "  ToEmoji=''\n",
        "  for i in EmojisSplit:\n",
        "    ToEmoji = str(ToEmoji)+\"::\"+str(i)\n",
        "  ToEmoji = ToEmoji[1:]+str(':')\n",
        "  # print(ToEmoji)\n",
        "  return ToEmoji\n",
        "# GetEmojisFromDatasetPrompting(TestSentence)"
      ],
      "metadata": {
        "id": "c070eDI7OB0i"
      },
      "execution_count": null,
      "outputs": []
    },
    {
      "cell_type": "code",
      "source": [
        "def FromPDToEmojis(TargDataset):\n",
        "  ListPD = TargDataset['prompt_and_question'].tolist()\n",
        "  Result = []\n",
        "  for i in ListPD:\n",
        "    TargetSentence = i\n",
        "    EmojisFromSent = GetEmojisFromDatasetPrompting(TargetSentence)\n",
        "    Result.append(EmojisFromSent)\n",
        "  return Result"
      ],
      "metadata": {
        "id": "Wd_ovKqiPCfV"
      },
      "execution_count": null,
      "outputs": []
    },
    {
      "cell_type": "code",
      "source": [
        "def GetEmojiFromStringRep(ListofEmojiStringRep):\n",
        "  Emojized_TextList = []\n",
        "  for i in ListofEmojiStringRep:\n",
        "    TargetEmoji=i\n",
        "    emojize_text = emoji.emojize(TargetEmoji)\n",
        "    Emojized_TextList.append(emojize_text)\n",
        "  return Emojized_TextList"
      ],
      "metadata": {
        "id": "v_KVkhRmO1cz"
      },
      "execution_count": null,
      "outputs": []
    },
    {
      "cell_type": "code",
      "source": [
        "def CleanedEmojiRep(TarList):\n",
        "  ResultList = []\n",
        "  for i in TarList:\n",
        "    Target = i\n",
        "    i2 = i.replace(\"::\", \", \")\n",
        "    i3 = i2.replace(\":\", \"\")\n",
        "    ResultList.append(i3)\n",
        "  return ResultList"
      ],
      "metadata": {
        "id": "MXVo8w9BSF7y"
      },
      "execution_count": null,
      "outputs": []
    },
    {
      "cell_type": "code",
      "source": [
        "def Prompting(CleanedEmojiList):\n",
        "  ResultList=[]\n",
        "  for i in CleanedEmojiList:\n",
        "    Target = i\n",
        "    Prompt = \"Please respond the following text as if in a chat using only one sentence: \"\n",
        "    Result = str(Prompt) + str(Target) + '.'\n",
        "    ResultList.append(Result)\n",
        "  return ResultList"
      ],
      "metadata": {
        "id": "tHRYNgZGU-KM"
      },
      "execution_count": null,
      "outputs": []
    },
    {
      "cell_type": "code",
      "source": [
        "StringRepEmojisInTrain = FromPDToEmojis(PD_Emoji_Train)\n",
        "RealEmojisInTrain = GetEmojiFromStringRep(StringRepEmojisInTrain)\n",
        "EmojiCleanInTrain = CleanedEmojiRep(StringRepEmojisInTrain)\n",
        "EmojiSRPromptinTrain = Prompting(EmojiCleanInTrain)\n",
        "Train_Emojis_Dict = {'CleanedSR':EmojiCleanInTrain,'String Representation':StringRepEmojisInTrain,'Prompt':EmojiSRPromptinTrain}\n",
        "Train_Emojis_DF = pd.DataFrame(Train_Emojis_Dict)\n",
        "#======================================================\n",
        "StringRepEmojisInVal = FromPDToEmojis(PD_Emoji_Val)\n",
        "RealEmojisInVal = GetEmojiFromStringRep(StringRepEmojisInVal)\n",
        "EmojiCleanInVal = CleanedEmojiRep(StringRepEmojisInVal)\n",
        "EmojiSRPromptinVal = Prompting(EmojiCleanInVal)\n",
        "Val_Emojis_Dict = {'CleanedSR':EmojiCleanInVal,'String Representation':StringRepEmojisInVal,'Prompt':EmojiSRPromptinVal}\n",
        "Val_Emojis_DF = pd.DataFrame(Val_Emojis_Dict)\n",
        "#======================================================\n",
        "StringRepEmojisInTest = FromPDToEmojis(PD_Emoji_Test)\n",
        "RealEmojisInTest = GetEmojiFromStringRep(StringRepEmojisInTest)\n",
        "EmojiCleanInTest = CleanedEmojiRep(StringRepEmojisInTest)\n",
        "EmojiSRPromptinTest = Prompting(EmojiCleanInTest)\n",
        "Test_Emojis_Dict = {'CleanedSR':EmojiCleanInTest,'String Representation':StringRepEmojisInTest,'Prompt':EmojiSRPromptinTest}\n",
        "Test_Emojis_DF = pd.DataFrame(Test_Emojis_Dict)"
      ],
      "metadata": {
        "id": "_mAVyjc7QJb6"
      },
      "execution_count": null,
      "outputs": []
    },
    {
      "cell_type": "code",
      "source": [
        "len(Test_Emojis_DF)"
      ],
      "metadata": {
        "colab": {
          "base_uri": "https://localhost:8080/"
        },
        "id": "Tsy1Z8WBUOcS",
        "outputId": "0a08a651-e7b0-42da-d03a-fc783e05f922"
      },
      "execution_count": null,
      "outputs": [
        {
          "output_type": "execute_result",
          "data": {
            "text/plain": [
              "127"
            ]
          },
          "metadata": {},
          "execution_count": 41
        }
      ]
    },
    {
      "cell_type": "code",
      "source": [
        "Train_Emojis_DF.to_csv(\"train_emojiSRPrompt.csv\", index=False)\n",
        "Val_Emojis_DF.to_csv(\"val_emojiSRPrompt.csv\", index=False)\n",
        "Test_Emojis_DF.to_csv(\"test_emojiSRPrompt.csv\", index=False)"
      ],
      "metadata": {
        "id": "ovJ7yGjYP9Yk"
      },
      "execution_count": null,
      "outputs": []
    }
  ]
}